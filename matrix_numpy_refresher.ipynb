{
  "nbformat": 4,
  "nbformat_minor": 0,
  "metadata": {
    "colab": {
      "name": "matrix_numpy refresher.ipynb",
      "provenance": [],
      "toc_visible": true,
      "authorship_tag": "ABX9TyP7tZKGroBcoGIq9kJyLSZj",
      "include_colab_link": true
    },
    "kernelspec": {
      "name": "python3",
      "display_name": "Python 3"
    },
    "language_info": {
      "name": "python"
    }
  },
  "cells": [
    {
      "cell_type": "markdown",
      "metadata": {
        "id": "view-in-github",
        "colab_type": "text"
      },
      "source": [
        "<a href=\"https://colab.research.google.com/github/NavoditPawar/BasicsOfCoding/blob/master/matrix_numpy_refresher.ipynb\" target=\"_parent\"><img src=\"https://colab.research.google.com/assets/colab-badge.svg\" alt=\"Open In Colab\"/></a>"
      ]
    },
    {
      "cell_type": "code",
      "execution_count": null,
      "metadata": {
        "id": "3Eqzj65hq0Ox"
      },
      "outputs": [],
      "source": [
        ""
      ]
    },
    {
      "cell_type": "markdown",
      "source": [
        "# Matrix Math and Numpy Refresher\n"
      ],
      "metadata": {
        "id": "kQV90SLBq6qQ"
      }
    },
    {
      "cell_type": "markdown",
      "source": [
        ""
      ],
      "metadata": {
        "id": "ddCCe-_d0lMA"
      }
    },
    {
      "cell_type": "markdown",
      "source": [
        "# Scalars, Vectors"
      ],
      "metadata": {
        "id": "JNrVbZ4T0l6E"
      }
    },
    {
      "cell_type": "code",
      "source": [
        "#Scalars can be int float. Eventually every object you make (vector,matrices, tensors) are eventually scalars\n",
        "#to create numpy array, use ARRAY function"
      ],
      "metadata": {
        "id": "iuYTDHyPrDe0"
      },
      "execution_count": 1,
      "outputs": []
    },
    {
      "cell_type": "code",
      "source": [
        "import numpy as np"
      ],
      "metadata": {
        "id": "xkdX6hiUr7En"
      },
      "execution_count": 3,
      "outputs": []
    },
    {
      "cell_type": "code",
      "source": [
        "s =  np.array(5)"
      ],
      "metadata": {
        "id": "0uVvcAvHrzjo"
      },
      "execution_count": 4,
      "outputs": []
    },
    {
      "cell_type": "code",
      "source": [
        "s.shape"
      ],
      "metadata": {
        "colab": {
          "base_uri": "https://localhost:8080/"
        },
        "id": "atOcRy6nr4wo",
        "outputId": "dd574d48-873e-4e12-89cc-b4f09f2eba5d"
      },
      "execution_count": 5,
      "outputs": [
        {
          "output_type": "execute_result",
          "data": {
            "text/plain": [
              "()"
            ]
          },
          "metadata": {},
          "execution_count": 5
        }
      ]
    },
    {
      "cell_type": "code",
      "source": [
        "y = 8 + s"
      ],
      "metadata": {
        "id": "BS-5jmIMsDIy"
      },
      "execution_count": 7,
      "outputs": []
    },
    {
      "cell_type": "code",
      "source": [
        "print (y)"
      ],
      "metadata": {
        "colab": {
          "base_uri": "https://localhost:8080/"
        },
        "id": "fERM6N_GsGBs",
        "outputId": "b182b0bc-3683-4896-e3f8-b9a8ca6e8ae9"
      },
      "execution_count": 8,
      "outputs": [
        {
          "output_type": "stream",
          "name": "stdout",
          "text": [
            "13\n"
          ]
        }
      ]
    },
    {
      "cell_type": "code",
      "source": [
        "y.shape"
      ],
      "metadata": {
        "colab": {
          "base_uri": "https://localhost:8080/"
        },
        "id": "fHN3NCk3sLFM",
        "outputId": "c3d66cef-0a26-4c95-df0b-5a7bcf7c2b9a"
      },
      "execution_count": 9,
      "outputs": [
        {
          "output_type": "execute_result",
          "data": {
            "text/plain": [
              "()"
            ]
          },
          "metadata": {},
          "execution_count": 9
        }
      ]
    },
    {
      "cell_type": "code",
      "source": [
        "#to create vector, pass Array function like below\n",
        "v = np.array([1,2,3])"
      ],
      "metadata": {
        "id": "PZdl68evsNyt"
      },
      "execution_count": 12,
      "outputs": []
    },
    {
      "cell_type": "code",
      "source": [
        "v.shape"
      ],
      "metadata": {
        "colab": {
          "base_uri": "https://localhost:8080/"
        },
        "id": "wDjw9zFZsZGB",
        "outputId": "fb035fa2-49bd-42bd-ffae-d9abbf27269b"
      },
      "execution_count": 13,
      "outputs": [
        {
          "output_type": "execute_result",
          "data": {
            "text/plain": [
              "(3,)"
            ]
          },
          "metadata": {},
          "execution_count": 13
        }
      ]
    },
    {
      "cell_type": "code",
      "source": [
        "x = v[1]"
      ],
      "metadata": {
        "id": "93uMMPzNs63Y"
      },
      "execution_count": 16,
      "outputs": []
    },
    {
      "cell_type": "code",
      "source": [
        "print (x)\n"
      ],
      "metadata": {
        "colab": {
          "base_uri": "https://localhost:8080/"
        },
        "id": "pmMK9hvVti4b",
        "outputId": "0ec954f9-409a-448e-8fc0-5dc0f09ae77b"
      },
      "execution_count": 17,
      "outputs": [
        {
          "output_type": "stream",
          "name": "stdout",
          "text": [
            "2\n"
          ]
        }
      ]
    },
    {
      "cell_type": "code",
      "source": [
        "matrix = np.array([[1,2,3],[4,5,6],[7,8,9]])"
      ],
      "metadata": {
        "id": "GbmURKxYtmhI"
      },
      "execution_count": 19,
      "outputs": []
    },
    {
      "cell_type": "code",
      "source": [
        "matrix.shape"
      ],
      "metadata": {
        "colab": {
          "base_uri": "https://localhost:8080/"
        },
        "id": "Bvi6YSaiuPqJ",
        "outputId": "efea8e66-c02b-4ed5-c524-7c5d5c8ffc2c"
      },
      "execution_count": 21,
      "outputs": [
        {
          "output_type": "execute_result",
          "data": {
            "text/plain": [
              "(3, 3)"
            ]
          },
          "metadata": {},
          "execution_count": 21
        }
      ]
    },
    {
      "cell_type": "markdown",
      "source": [
        "#Element-wise operations in Numpy"
      ],
      "metadata": {
        "id": "J2MW0x980ix2"
      }
    },
    {
      "cell_type": "code",
      "source": [
        "#Python Way\n",
        "\n",
        "values = [1,2,3,4,5]\n",
        "for i in range(len(values)):\n",
        "  values[i] += 5\n",
        "print (values)"
      ],
      "metadata": {
        "colab": {
          "base_uri": "https://localhost:8080/"
        },
        "id": "1YDD-JYxuUZo",
        "outputId": "07b55adb-ad2f-4c7b-b825-cb842957be0a"
      },
      "execution_count": 26,
      "outputs": [
        {
          "output_type": "stream",
          "name": "stdout",
          "text": [
            "[6, 7, 8, 9, 10]\n"
          ]
        }
      ]
    },
    {
      "cell_type": "code",
      "source": [
        "#Numpy Way\n",
        "values = [1,2,3,4,5]\n",
        "values = np.array(values) + 5\n",
        "print (values)"
      ],
      "metadata": {
        "colab": {
          "base_uri": "https://localhost:8080/"
        },
        "id": "Q1caxMWG1PHO",
        "outputId": "f26c08bb-4273-45cd-c7a9-402dd011c601"
      },
      "execution_count": 27,
      "outputs": [
        {
          "output_type": "stream",
          "name": "stdout",
          "text": [
            "[ 6  7  8  9 10]\n"
          ]
        }
      ]
    },
    {
      "cell_type": "code",
      "source": [
        "multa = np.multiply(values,5)"
      ],
      "metadata": {
        "id": "rv10UZbb1yza"
      },
      "execution_count": 28,
      "outputs": []
    },
    {
      "cell_type": "code",
      "source": [
        "multb = values * 5"
      ],
      "metadata": {
        "id": "5rg5Rf_E2aWn"
      },
      "execution_count": 29,
      "outputs": []
    },
    {
      "cell_type": "code",
      "source": [
        "print (multa , multb)"
      ],
      "metadata": {
        "colab": {
          "base_uri": "https://localhost:8080/"
        },
        "id": "q2HhkYuL2dLF",
        "outputId": "68c40028-e34c-44ba-8b29-bc4b217b1d51"
      },
      "execution_count": 30,
      "outputs": [
        {
          "output_type": "stream",
          "name": "stdout",
          "text": [
            "[30 35 40 45 50] [30 35 40 45 50]\n"
          ]
        }
      ]
    },
    {
      "cell_type": "code",
      "source": [
        "\n",
        "\n",
        "a = np.array([[1,2],[3,4]])\n",
        "a"
      ],
      "metadata": {
        "colab": {
          "base_uri": "https://localhost:8080/"
        },
        "id": "NcoJZbNx2f5O",
        "outputId": "621a2f91-41b5-44e4-dac4-495509186195"
      },
      "execution_count": 31,
      "outputs": [
        {
          "output_type": "execute_result",
          "data": {
            "text/plain": [
              "array([[1, 2],\n",
              "       [3, 4]])"
            ]
          },
          "metadata": {},
          "execution_count": 31
        }
      ]
    },
    {
      "cell_type": "code",
      "source": [
        "b = np.array([[3,4],[4,5]])\n",
        "b"
      ],
      "metadata": {
        "colab": {
          "base_uri": "https://localhost:8080/"
        },
        "id": "p_-GzJOB23ZQ",
        "outputId": "6bcab708-0440-408f-d9e4-42242c4bf599"
      },
      "execution_count": 34,
      "outputs": [
        {
          "output_type": "execute_result",
          "data": {
            "text/plain": [
              "array([[3, 4],\n",
              "       [4, 5]])"
            ]
          },
          "metadata": {},
          "execution_count": 34
        }
      ]
    },
    {
      "cell_type": "code",
      "source": [
        "c = a + b\n",
        "c"
      ],
      "metadata": {
        "colab": {
          "base_uri": "https://localhost:8080/"
        },
        "id": "u2t9XfgW29gT",
        "outputId": "2a051179-3f59-43af-e0bc-b11cead98d25"
      },
      "execution_count": 37,
      "outputs": [
        {
          "output_type": "execute_result",
          "data": {
            "text/plain": [
              "array([[4, 6],\n",
              "       [7, 9]])"
            ]
          },
          "metadata": {},
          "execution_count": 37
        }
      ]
    },
    {
      "cell_type": "code",
      "source": [
        "\n"
      ],
      "metadata": {
        "id": "Q7Cm4xcx3Iex"
      },
      "execution_count": 37,
      "outputs": []
    },
    {
      "cell_type": "markdown",
      "source": [
        "# Multiplication"
      ],
      "metadata": {
        "id": "1QrAk4QAETKl"
      }
    },
    {
      "cell_type": "code",
      "source": [
        "m = np.array([[1,2,3],[4,5,6]])\n",
        "m"
      ],
      "metadata": {
        "colab": {
          "base_uri": "https://localhost:8080/"
        },
        "id": "JfUdtAw5EWH7",
        "outputId": "3a2da73f-631f-48a3-9bc5-68ee867a943d"
      },
      "execution_count": 38,
      "outputs": [
        {
          "output_type": "execute_result",
          "data": {
            "text/plain": [
              "array([[1, 2, 3],\n",
              "       [4, 5, 6]])"
            ]
          },
          "metadata": {},
          "execution_count": 38
        }
      ]
    },
    {
      "cell_type": "code",
      "source": [
        "n = m * 0.25\n",
        "k = np.multiply(m, 0.25)\n",
        "n,k"
      ],
      "metadata": {
        "colab": {
          "base_uri": "https://localhost:8080/"
        },
        "id": "BfF0QqxOEmqR",
        "outputId": "7aec2aa1-8f51-465b-b43d-b495ea3ad6ed"
      },
      "execution_count": 41,
      "outputs": [
        {
          "output_type": "execute_result",
          "data": {
            "text/plain": [
              "(array([[0.25, 0.5 , 0.75],\n",
              "        [1.  , 1.25, 1.5 ]]), array([[0.25, 0.5 , 0.75],\n",
              "        [1.  , 1.25, 1.5 ]]))"
            ]
          },
          "metadata": {},
          "execution_count": 41
        }
      ]
    },
    {
      "cell_type": "code",
      "source": [
        "n*k"
      ],
      "metadata": {
        "colab": {
          "base_uri": "https://localhost:8080/"
        },
        "id": "M7WNlOvEEqhL",
        "outputId": "5d62b52a-f5c3-4de5-d8fd-dfda300938a6"
      },
      "execution_count": 42,
      "outputs": [
        {
          "output_type": "execute_result",
          "data": {
            "text/plain": [
              "array([[0.0625, 0.25  , 0.5625],\n",
              "       [1.    , 1.5625, 2.25  ]])"
            ]
          },
          "metadata": {},
          "execution_count": 42
        }
      ]
    },
    {
      "cell_type": "code",
      "source": [
        "np.multiply(n,k)\n",
        "np.matmul(n,k)"
      ],
      "metadata": {
        "colab": {
          "base_uri": "https://localhost:8080/",
          "height": 200
        },
        "id": "OP4ouM7xF-6B",
        "outputId": "681e2e5e-f192-4aa4-a72d-6228dce8a5f4"
      },
      "execution_count": 52,
      "outputs": [
        {
          "output_type": "error",
          "ename": "ValueError",
          "evalue": "ignored",
          "traceback": [
            "\u001b[0;31m---------------------------------------------------------------------------\u001b[0m",
            "\u001b[0;31mValueError\u001b[0m                                Traceback (most recent call last)",
            "\u001b[0;32m<ipython-input-52-c3c5e383a31f>\u001b[0m in \u001b[0;36m<module>\u001b[0;34m()\u001b[0m\n\u001b[1;32m      1\u001b[0m \u001b[0mnp\u001b[0m\u001b[0;34m.\u001b[0m\u001b[0mmultiply\u001b[0m\u001b[0;34m(\u001b[0m\u001b[0mn\u001b[0m\u001b[0;34m,\u001b[0m\u001b[0mk\u001b[0m\u001b[0;34m)\u001b[0m\u001b[0;34m\u001b[0m\u001b[0;34m\u001b[0m\u001b[0m\n\u001b[0;32m----> 2\u001b[0;31m \u001b[0mnp\u001b[0m\u001b[0;34m.\u001b[0m\u001b[0mmatmul\u001b[0m\u001b[0;34m(\u001b[0m\u001b[0mn\u001b[0m\u001b[0;34m,\u001b[0m\u001b[0mk\u001b[0m\u001b[0;34m)\u001b[0m\u001b[0;34m\u001b[0m\u001b[0;34m\u001b[0m\u001b[0m\n\u001b[0m",
            "\u001b[0;31mValueError\u001b[0m: matmul: Input operand 1 has a mismatch in its core dimension 0, with gufunc signature (n?,k),(k,m?)->(n?,m?) (size 2 is different from 3)"
          ]
        }
      ]
    },
    {
      "cell_type": "code",
      "source": [
        "a = np.array([[1,2,3,4],[4,5,6,7]])\n",
        "\n",
        "a\n"
      ],
      "metadata": {
        "colab": {
          "base_uri": "https://localhost:8080/"
        },
        "id": "VWswN-1nGEsm",
        "outputId": "164d3075-4024-45d6-d595-5571e73f9bf0"
      },
      "execution_count": 46,
      "outputs": [
        {
          "output_type": "execute_result",
          "data": {
            "text/plain": [
              "array([[1, 2, 3, 4],\n",
              "       [4, 5, 6, 7]])"
            ]
          },
          "metadata": {},
          "execution_count": 46
        }
      ]
    },
    {
      "cell_type": "code",
      "source": [
        "a.shape"
      ],
      "metadata": {
        "colab": {
          "base_uri": "https://localhost:8080/"
        },
        "id": "nRPrFHrOGttj",
        "outputId": "6b29b238-c26b-4fad-d923-547366fc8219"
      },
      "execution_count": 47,
      "outputs": [
        {
          "output_type": "execute_result",
          "data": {
            "text/plain": [
              "(2, 4)"
            ]
          },
          "metadata": {},
          "execution_count": 47
        }
      ]
    },
    {
      "cell_type": "code",
      "source": [
        "b=np.array([[1,2,3,4,5],[3,4,5,6,5],[4,5,6,7,4],[1,2,3,4,3]])\n",
        "b.shape"
      ],
      "metadata": {
        "colab": {
          "base_uri": "https://localhost:8080/"
        },
        "id": "8_xAkTpAG5C5",
        "outputId": "26c85854-8482-47f5-a4d6-547b7ba0e117"
      },
      "execution_count": 49,
      "outputs": [
        {
          "output_type": "execute_result",
          "data": {
            "text/plain": [
              "(4, 5)"
            ]
          },
          "metadata": {},
          "execution_count": 49
        }
      ]
    },
    {
      "cell_type": "code",
      "source": [
        "c= np.matmul(a,b)"
      ],
      "metadata": {
        "id": "WuAAlLBUHGEl"
      },
      "execution_count": 50,
      "outputs": []
    },
    {
      "cell_type": "code",
      "source": [
        "c"
      ],
      "metadata": {
        "colab": {
          "base_uri": "https://localhost:8080/"
        },
        "id": "azfP_P9pHSWX",
        "outputId": "53ac39ce-7653-450b-8d7e-dac4c8c7438a"
      },
      "execution_count": 51,
      "outputs": [
        {
          "output_type": "execute_result",
          "data": {
            "text/plain": [
              "array([[ 23,  33,  43,  53,  39],\n",
              "       [ 50,  72,  94, 116,  90]])"
            ]
          },
          "metadata": {},
          "execution_count": 51
        }
      ]
    },
    {
      "cell_type": "code",
      "source": [
        "#numpy matmul and numpy dot are same for 2 x 2\n"
      ],
      "metadata": {
        "id": "7fTDvGKSHT4Q"
      },
      "execution_count": 53,
      "outputs": []
    },
    {
      "cell_type": "code",
      "source": [
        ""
      ],
      "metadata": {
        "id": "lwiB4cpSLchZ"
      },
      "execution_count": null,
      "outputs": []
    },
    {
      "cell_type": "markdown",
      "source": [
        "# Transpose"
      ],
      "metadata": {
        "id": "PLlY8aHTTSMm"
      }
    },
    {
      "cell_type": "code",
      "source": [
        "aa= np.array([[1,2,3,4],[5,6,7,8],[9,10,11,12]])\n",
        "aa.shape"
      ],
      "metadata": {
        "colab": {
          "base_uri": "https://localhost:8080/"
        },
        "id": "fvJgEpsfTUyN",
        "outputId": "83b2c8a0-a79f-404c-ef71-466cc351bf17"
      },
      "execution_count": 54,
      "outputs": [
        {
          "output_type": "execute_result",
          "data": {
            "text/plain": [
              "(3, 4)"
            ]
          },
          "metadata": {},
          "execution_count": 54
        }
      ]
    },
    {
      "cell_type": "code",
      "source": [
        "aa.T"
      ],
      "metadata": {
        "colab": {
          "base_uri": "https://localhost:8080/"
        },
        "id": "U2CpgK41TiC1",
        "outputId": "bf996d14-2aca-48ae-9243-dc40f6a94d00"
      },
      "execution_count": 56,
      "outputs": [
        {
          "output_type": "execute_result",
          "data": {
            "text/plain": [
              "array([[ 1,  5,  9],\n",
              "       [ 2,  6, 10],\n",
              "       [ 3,  7, 11],\n",
              "       [ 4,  8, 12]])"
            ]
          },
          "metadata": {},
          "execution_count": 56
        }
      ]
    },
    {
      "cell_type": "code",
      "source": [
        ""
      ],
      "metadata": {
        "id": "KmzwDm8wTlke"
      },
      "execution_count": null,
      "outputs": []
    },
    {
      "cell_type": "markdown",
      "source": [
        "# NP QUiz\n",
        "\n"
      ],
      "metadata": {
        "id": "G7dfxxBTVsHE"
      }
    },
    {
      "cell_type": "code",
      "source": [
        "# Use the numpy library\n",
        "import numpy as np\n",
        "\n",
        "\n",
        "def prepare_inputs(inputs):\n",
        "    # TODO: create a 2-dimensional ndarray from the given 1-dimensional list;\n",
        "    #       assign it to input_array\n",
        "    input_array = np.array([inputs])\n",
        "    \n",
        "    # TODO: find the minimum value in input_array and subtract that\n",
        "    #       value from all the elements of input_array. Store the\n",
        "    #       result in inputs_minus_min\n",
        "    inputs_minus_min = input_array - np.min(input_array)\n",
        "\n",
        "    # TODO: find the maximum value in inputs_minus_min and divide\n",
        "    #       all of the values in inputs_minus_min by the maximum value.\n",
        "    #       Store the results in inputs_div_max.\n",
        "    inputs_div_max = (inputs_minus_min)/(np.max(inputs_minus_min))\n",
        "\n",
        "    # return the three arrays we've created\n",
        "    return input_array, inputs_minus_min, inputs_div_max\n",
        "    \n",
        "\n",
        "def multiply_inputs(m1, m2):\n",
        "    # TODO: Check the shapes of the matrices m1 and m2. \n",
        "    #       m1 and m2 will be ndarray objects.\n",
        "    #\n",
        "    #       Return False if the shapes cannot be used for matrix\n",
        "    #       multiplication. You may not use a transpose\n",
        "    pass\n",
        "\n",
        "\n",
        "    # TODO: If you have not returned False, then calculate the matrix product\n",
        "    #       of m1 and m2 and return it. Do not use a transpose,\n",
        "    #       but you swap their order if necessary\n",
        "    pass\n",
        "    \n",
        "\n",
        "def find_mean(values):\n",
        "    # TODO: Return the average of the values in the given Python list\n",
        "    pass\n",
        "\n",
        "\n",
        "input_array, inputs_minus_min, inputs_div_max = prepare_inputs([-1,2,7])\n",
        "print(\"Input as Array: {}\".format(input_array))\n",
        "print(\"Input minus min: {}\".format(inputs_minus_min))\n",
        "print(\"Input  Array: {}\".format(inputs_div_max))\n",
        "\n",
        "print(\"Multiply 1:\\n{}\".format(multiply_inputs(np.array([[1,2,3],[4,5,6]]), np.array([[1],[2],[3],[4]]))))\n",
        "print(\"Multiply 2:\\n{}\".format(multiply_inputs(np.array([[1,2,3],[4,5,6]]), np.array([[1],[2],[3]]))))\n",
        "print(\"Multiply 3:\\n{}\".format(multiply_inputs(np.array([[1,2,3],[4,5,6]]), np.array([[1,2]]))))\n",
        "\n",
        "print(\"Mean == {}\".format(find_mean([1,3,4])))"
      ],
      "metadata": {
        "colab": {
          "base_uri": "https://localhost:8080/"
        },
        "id": "lkE7rj13VveL",
        "outputId": "3181359a-0fc2-4da8-c752-f406a6c4116e"
      },
      "execution_count": 58,
      "outputs": [
        {
          "output_type": "stream",
          "name": "stdout",
          "text": [
            "Input as Array: [[-1  2  7]]\n",
            "Input minus min: [[0 3 8]]\n",
            "Input  Array: [[0.    0.375 1.   ]]\n",
            "Multiply 1:\n",
            "None\n",
            "Multiply 2:\n",
            "None\n",
            "Multiply 3:\n",
            "None\n",
            "Mean == None\n"
          ]
        }
      ]
    },
    {
      "cell_type": "code",
      "source": [
        ""
      ],
      "metadata": {
        "id": "YkTyWCw5Wnzd"
      },
      "execution_count": null,
      "outputs": []
    }
  ]
}