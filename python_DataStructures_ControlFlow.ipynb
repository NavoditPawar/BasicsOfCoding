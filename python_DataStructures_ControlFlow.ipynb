{
  "nbformat": 4,
  "nbformat_minor": 0,
  "metadata": {
    "colab": {
      "name": "Untitled1.ipynb",
      "provenance": [],
      "toc_visible": true,
      "authorship_tag": "ABX9TyMi8aGT1Z2BI8wmjeDtQyki",
      "include_colab_link": true
    },
    "kernelspec": {
      "name": "python3",
      "display_name": "Python 3"
    },
    "language_info": {
      "name": "python"
    }
  },
  "cells": [
    {
      "cell_type": "markdown",
      "metadata": {
        "id": "view-in-github",
        "colab_type": "text"
      },
      "source": [
        "<a href=\"https://colab.research.google.com/github/NavoditPawar/BasicsOfCoding/blob/master/python_DataStructures_ControlFlow.ipynb\" target=\"_parent\"><img src=\"https://colab.research.google.com/assets/colab-badge.svg\" alt=\"Open In Colab\"/></a>"
      ]
    },
    {
      "cell_type": "code",
      "metadata": {
        "colab": {
          "base_uri": "https://localhost:8080/"
        },
        "id": "egy1ALSlsv58",
        "outputId": "fdaffcc4-16d9-4be3-fa97-3deb9d0c05e8"
      },
      "source": [
        "reservior_vol= 4.445e8\n",
        "print(reservior_vol)\n",
        "rainfall = 5e6\n",
        "print(rainfall)"
      ],
      "execution_count": null,
      "outputs": [
        {
          "output_type": "stream",
          "name": "stdout",
          "text": [
            "444500000.0\n",
            "5000000.0\n"
          ]
        }
      ]
    },
    {
      "cell_type": "code",
      "metadata": {
        "colab": {
          "base_uri": "https://localhost:8080/"
        },
        "id": "vkJ0nIqPs4F9",
        "outputId": "6ea98632-a709-46c1-d48d-0898984f536a"
      },
      "source": [
        "rainfall *= 0.9\n",
        "print(rainfall)"
      ],
      "execution_count": null,
      "outputs": [
        {
          "output_type": "stream",
          "name": "stdout",
          "text": [
            "4050000.0\n"
          ]
        }
      ]
    },
    {
      "cell_type": "code",
      "metadata": {
        "id": "azhsgSMotH1y"
      },
      "source": [
        "reservior_vol+=rainfall"
      ],
      "execution_count": null,
      "outputs": []
    },
    {
      "cell_type": "code",
      "metadata": {
        "colab": {
          "base_uri": "https://localhost:8080/"
        },
        "id": "De0yQNFntVBW",
        "outputId": "50e2c460-665e-4fd5-d78c-0941ed31a13e"
      },
      "source": [
        "print(reservior_vol)"
      ],
      "execution_count": null,
      "outputs": [
        {
          "output_type": "stream",
          "name": "stdout",
          "text": [
            "448550000.0\n"
          ]
        }
      ]
    },
    {
      "cell_type": "code",
      "metadata": {
        "colab": {
          "base_uri": "https://localhost:8080/"
        },
        "id": "LIOTGu8utYAO",
        "outputId": "d3f0d847-e5bc-4e4c-d5c4-5416dce71c6b"
      },
      "source": [
        "reservior_vol*=1.05\n",
        "print(reservior_vol)"
      ],
      "execution_count": null,
      "outputs": [
        {
          "output_type": "stream",
          "name": "stdout",
          "text": [
            "470977500.0\n"
          ]
        }
      ]
    },
    {
      "cell_type": "code",
      "metadata": {
        "colab": {
          "base_uri": "https://localhost:8080/"
        },
        "id": "wGNFeZyGter1",
        "outputId": "087f62a2-3068-43c5-cf08-d87d912d3c32"
      },
      "source": [
        "reservior_vol*=0.95\n",
        "print(reservior_vol)"
      ],
      "execution_count": null,
      "outputs": [
        {
          "output_type": "stream",
          "name": "stdout",
          "text": [
            "447428625.0\n"
          ]
        }
      ]
    },
    {
      "cell_type": "code",
      "metadata": {
        "colab": {
          "base_uri": "https://localhost:8080/"
        },
        "id": "pwRA6V79tpMr",
        "outputId": "44b60e50-a132-4437-8684-70b952f02897"
      },
      "source": [
        "reservior_vol-=2.5e5\n",
        "print(reservior_vol)"
      ],
      "execution_count": null,
      "outputs": [
        {
          "output_type": "stream",
          "name": "stdout",
          "text": [
            "447178625.0\n"
          ]
        }
      ]
    },
    {
      "cell_type": "code",
      "metadata": {
        "id": "LjVJvZhotyIg"
      },
      "source": [
        "\n",
        "carrots = 24\n",
        "rabbit = 8\n",
        "crb_pr_rab = carrots / rabbit"
      ],
      "execution_count": null,
      "outputs": []
    },
    {
      "cell_type": "code",
      "metadata": {
        "colab": {
          "base_uri": "https://localhost:8080/"
        },
        "id": "Pg8jn7Qmvk5-",
        "outputId": "eb7096cd-90b3-4156-d3cb-ae1dab965c71"
      },
      "source": [
        "print(crb_pr_rab)"
      ],
      "execution_count": null,
      "outputs": [
        {
          "output_type": "stream",
          "name": "stdout",
          "text": [
            "3.0\n"
          ]
        }
      ]
    },
    {
      "cell_type": "code",
      "metadata": {
        "colab": {
          "base_uri": "https://localhost:8080/"
        },
        "id": "9axHg7JMvnka",
        "outputId": "619ca392-8b56-4008-f061-33d8dc0fad25"
      },
      "source": [
        "rabbit=12\n",
        "print(crb_pr_rab)"
      ],
      "execution_count": null,
      "outputs": [
        {
          "output_type": "stream",
          "name": "stdout",
          "text": [
            "3.0\n"
          ]
        }
      ]
    },
    {
      "cell_type": "code",
      "metadata": {
        "colab": {
          "base_uri": "https://localhost:8080/"
        },
        "id": "dJ-OQG4fvuMy",
        "outputId": "9fc25bd0-f9f4-4fec-cb88-b4b7f3bfb0dc"
      },
      "source": [
        "treats = 19/0.01\n",
        "print (treats)"
      ],
      "execution_count": null,
      "outputs": [
        {
          "output_type": "stream",
          "name": "stdout",
          "text": [
            "1900.0\n"
          ]
        }
      ]
    },
    {
      "cell_type": "code",
      "metadata": {
        "colab": {
          "base_uri": "https://localhost:8080/"
        },
        "id": "M99a5zlMz8Mm",
        "outputId": "192b4e68-3801-488c-e58e-89703606b085"
      },
      "source": [
        "sf_population, sf_area = 864816, 231.89\n",
        "rio_population, rio_area = 6453682, 486.5\n",
        "\n",
        "san_francisco_pop_density = sf_population/sf_area\n",
        "rio_de_janeiro_pop_density = rio_population/rio_area\n",
        "\n",
        "# Write code that prints True if San Francisco is denser than Rio, and False otherwise\n",
        "density = san_francisco_pop_density > rio_de_janeiro_pop_density\n",
        "print(density)"
      ],
      "execution_count": null,
      "outputs": [
        {
          "output_type": "stream",
          "name": "stdout",
          "text": [
            "False\n"
          ]
        }
      ]
    },
    {
      "cell_type": "code",
      "metadata": {
        "colab": {
          "base_uri": "https://localhost:8080/"
        },
        "id": "oTLoEIhY107i",
        "outputId": "b762a6c4-95f6-4dbb-e220-19ba34ce6e8c"
      },
      "source": [
        "statement = '\" i think you\\'re an exceptional persona\"'\n",
        "print(statement)"
      ],
      "execution_count": null,
      "outputs": [
        {
          "output_type": "stream",
          "name": "stdout",
          "text": [
            "\" i think you're an exceptional persona\"\n"
          ]
        }
      ]
    },
    {
      "cell_type": "code",
      "metadata": {
        "colab": {
          "base_uri": "https://localhost:8080/"
        },
        "id": "b_XTta194fO-",
        "outputId": "1e4877a8-9e88-4ff7-b96c-c2ddbb076cb6"
      },
      "source": [
        "first = 'howdy brotha'\n",
        "second = 'you goooooood?'\n",
        "print ((first +  \" \"  + second)*5 )"
      ],
      "execution_count": null,
      "outputs": [
        {
          "output_type": "stream",
          "name": "stdout",
          "text": [
            "howdy brotha you goooooood?howdy brotha you goooooood?howdy brotha you goooooood?howdy brotha you goooooood?howdy brotha you goooooood?\n"
          ]
        }
      ]
    },
    {
      "cell_type": "code",
      "metadata": {
        "colab": {
          "base_uri": "https://localhost:8080/"
        },
        "id": "AKiqOLXX5L5K",
        "outputId": "5cd91be2-53bf-48ca-d8a2-706ce14523d7"
      },
      "source": [
        "print (len(first))"
      ],
      "execution_count": null,
      "outputs": [
        {
          "output_type": "stream",
          "name": "stdout",
          "text": [
            "12\n"
          ]
        }
      ]
    },
    {
      "cell_type": "code",
      "metadata": {
        "colab": {
          "base_uri": "https://localhost:8080/"
        },
        "id": "iOjekZBO5nmm",
        "outputId": "2fe8e89a-e5b0-4d37-eb15-de4915eab112"
      },
      "source": [
        "print(type(first))"
      ],
      "execution_count": null,
      "outputs": [
        {
          "output_type": "stream",
          "name": "stdout",
          "text": [
            "<class 'str'>\n"
          ]
        }
      ]
    },
    {
      "cell_type": "code",
      "metadata": {
        "colab": {
          "base_uri": "https://localhost:8080/",
          "height": 35
        },
        "id": "t9DfCs-Q5wqn",
        "outputId": "cdd47d0c-247f-43f4-8513-c8d974fc06b5"
      },
      "source": [
        "first[0]"
      ],
      "execution_count": null,
      "outputs": [
        {
          "output_type": "execute_result",
          "data": {
            "application/vnd.google.colaboratory.intrinsic+json": {
              "type": "string"
            },
            "text/plain": [
              "'h'"
            ]
          },
          "metadata": {},
          "execution_count": 35
        }
      ]
    },
    {
      "cell_type": "code",
      "metadata": {
        "colab": {
          "base_uri": "https://localhost:8080/"
        },
        "id": "2VSAZooA586Q",
        "outputId": "891a5f3f-f9ec-4376-8ef3-cdce74348d3c"
      },
      "source": [
        "# TODO: Fix this string!\n",
        "ford_quote = \"'Whether you think you can, or you think you can't--you're right.'\"\n",
        "print(ford_quote)"
      ],
      "execution_count": null,
      "outputs": [
        {
          "output_type": "stream",
          "name": "stdout",
          "text": [
            "'Whether you think you can, or you think you can't--you're right.'\n"
          ]
        }
      ]
    },
    {
      "cell_type": "code",
      "metadata": {
        "colab": {
          "base_uri": "https://localhost:8080/"
        },
        "id": "UQ-RDEIE6HqX",
        "outputId": "05bc656b-5cf9-4e98-f86e-a3f38150f6aa"
      },
      "source": [
        "username = \"Kinari\"\n",
        "timestamp = \"04:50\"\n",
        "url = \"http://petshop.com/pets/mammals/cats\"\n",
        "\n",
        "# TODO: print a log message using the variables above.\n",
        "# The message should have the same format as this one:\n",
        "# \"Yogesh accessed the site http://petshop.com/pets/reptiles/pythons at 16:20.\"\n",
        "print (username + \" accessed the site \" + url + \" at \" + timestamp)"
      ],
      "execution_count": null,
      "outputs": [
        {
          "output_type": "stream",
          "name": "stdout",
          "text": [
            "Kinari accessed the site http://petshop.com/pets/mammals/cats at 04:50\n"
          ]
        }
      ]
    },
    {
      "cell_type": "code",
      "metadata": {
        "colab": {
          "base_uri": "https://localhost:8080/"
        },
        "id": "DB4dW4hN8U01",
        "outputId": "faf0edac-dbf8-4c96-dee2-308202c0967d"
      },
      "source": [
        "given_name = \"William\"\n",
        "middle_names = \"Bradley\"\n",
        "family_name = \"Pitt\"\n",
        "\n",
        "name_length = len(given_name + \" \" + middle_names + \" \" + family_name)#todo: calculate how long this name is\n",
        "print(name_length)\n",
        "# Now we check to make sure that the name fits within the driving license character limit\n",
        "# Nothing you need to do here\n",
        "driving_license_character_limit = 28\n",
        "print(name_length <= driving_license_character_limit)"
      ],
      "execution_count": null,
      "outputs": [
        {
          "output_type": "stream",
          "name": "stdout",
          "text": [
            "20\n",
            "True\n"
          ]
        }
      ]
    },
    {
      "cell_type": "code",
      "metadata": {
        "colab": {
          "base_uri": "https://localhost:8080/"
        },
        "id": "t4CFJNAj_S_B",
        "outputId": "32fc01a5-396c-41e0-dce1-3daf41087074"
      },
      "source": [
        "mon_sales = \"121\"\n",
        "tues_sales = \"105\"\n",
        "wed_sales = \"110\"\n",
        "thurs_sales = \"98\"\n",
        "fri_sales = \"95\"\n",
        "\n",
        "#TODO: Print a string with this format: This week's total sales: xxx\n",
        "# You will probably need to write some lines of code before the print statement.\n",
        "type(mon_sales) "
      ],
      "execution_count": null,
      "outputs": [
        {
          "output_type": "execute_result",
          "data": {
            "text/plain": [
              "str"
            ]
          },
          "metadata": {},
          "execution_count": 43
        }
      ]
    },
    {
      "cell_type": "code",
      "metadata": {
        "colab": {
          "base_uri": "https://localhost:8080/"
        },
        "id": "YXccQf2_Bbmr",
        "outputId": "2858e1a6-be58-4afb-8b54-727291781a3d"
      },
      "source": [
        "total_sales = int(mon_sales) + int(thurs_sales) + int(wed_sales) + int(thurs_sales) + int(fri_sales)\n",
        "print(total_sales)"
      ],
      "execution_count": null,
      "outputs": [
        {
          "output_type": "stream",
          "name": "stdout",
          "text": [
            "522\n"
          ]
        }
      ]
    },
    {
      "cell_type": "code",
      "metadata": {
        "colab": {
          "base_uri": "https://localhost:8080/"
        },
        "id": "w96CzyfcBrFq",
        "outputId": "0b57228a-1d2a-400c-9061-63cc9722cdb4"
      },
      "source": [
        "print ( \"This week's total sales :\" + str(total_sales))"
      ],
      "execution_count": null,
      "outputs": [
        {
          "output_type": "stream",
          "name": "stdout",
          "text": [
            "This week's total sales :522\n"
          ]
        }
      ]
    },
    {
      "cell_type": "code",
      "metadata": {
        "id": "73gj9SPzB_sD"
      },
      "source": [
        "mon_sales = \"121\"\n",
        "mon_sales = int(mon_sales)"
      ],
      "execution_count": null,
      "outputs": []
    },
    {
      "cell_type": "code",
      "metadata": {
        "colab": {
          "base_uri": "https://localhost:8080/"
        },
        "id": "r_IHOsUICY3x",
        "outputId": "cfb31612-9255-4f49-8198-89edb372fda9"
      },
      "source": [
        "type(mon_sales)"
      ],
      "execution_count": null,
      "outputs": [
        {
          "output_type": "execute_result",
          "data": {
            "text/plain": [
              "int"
            ]
          },
          "metadata": {},
          "execution_count": 50
        }
      ]
    },
    {
      "cell_type": "code",
      "metadata": {
        "colab": {
          "base_uri": "https://localhost:8080/"
        },
        "id": "IwOV4xNLCbAg",
        "outputId": "d857e486-8acf-4b22-e67e-e116e22bea97"
      },
      "source": [
        "\n",
        "# Write two lines of code below, each assigning a value to a variable\n",
        "\n",
        "\n",
        "# Now write a print statement using .format() to print out a sentence and the \n",
        "#   values of both of the variables\n",
        "weapon = 'round'\n",
        "action = 'pierce'\n",
        "print('is your {} {}'.format(weapon, action))"
      ],
      "execution_count": null,
      "outputs": [
        {
          "output_type": "stream",
          "name": "stdout",
          "text": [
            "is your round pierce\n"
          ]
        }
      ]
    },
    {
      "cell_type": "code",
      "metadata": {
        "colab": {
          "base_uri": "https://localhost:8080/"
        },
        "id": "DRGcM_np7xib",
        "outputId": "1aaa7bf7-67a0-4279-d1b2-f7216a413679"
      },
      "source": [
        "verse = \"If you can keep your head when all about you\\n  Are losing theirs and blaming it on you,\\nIf you can trust yourself when all men doubt you,\\n  But make allowance for their doubting too;\\nIf you can wait and not be tired by waiting,\\n  Or being lied about, don’t deal in lies,\\nOr being hated, don’t give way to hating,\\n  And yet don’t look too good, nor talk too wise:\"\n",
        "print(verse)\n",
        "\n",
        "# Use the appropriate functions and methods to answer the questions above\n",
        "# Bonus: practice using .format() to output your answers in descriptive messages!\n",
        "#What is the length of the string variable verse?\n",
        "#What is the index of the first occurrence of the word 'and' in verse?\n",
        "#What is the index of the last occurrence of the word 'you' in verse?\n",
        "#What is the count of occurrences of the word 'you' in the verse?\n",
        "\n",
        "len(verse)\n",
        "\n"
      ],
      "execution_count": null,
      "outputs": [
        {
          "output_type": "stream",
          "name": "stdout",
          "text": [
            "If you can keep your head when all about you\n",
            "  Are losing theirs and blaming it on you,\n",
            "If you can trust yourself when all men doubt you,\n",
            "  But make allowance for their doubting too;\n",
            "If you can wait and not be tired by waiting,\n",
            "  Or being lied about, don’t deal in lies,\n",
            "Or being hated, don’t give way to hating,\n",
            "  And yet don’t look too good, nor talk too wise:\n"
          ]
        },
        {
          "output_type": "execute_result",
          "data": {
            "text/plain": [
              "362"
            ]
          },
          "metadata": {},
          "execution_count": 6
        }
      ]
    },
    {
      "cell_type": "code",
      "metadata": {
        "colab": {
          "base_uri": "https://localhost:8080/"
        },
        "id": "HYZHjHo1_l35",
        "outputId": "9a8b9c36-6153-4074-ee8e-83db8c2d6096"
      },
      "source": [
        "verse.find('and')"
      ],
      "execution_count": null,
      "outputs": [
        {
          "output_type": "execute_result",
          "data": {
            "text/plain": [
              "65"
            ]
          },
          "metadata": {},
          "execution_count": 5
        }
      ]
    },
    {
      "cell_type": "code",
      "metadata": {
        "colab": {
          "base_uri": "https://localhost:8080/"
        },
        "id": "gz62R85j_zEX",
        "outputId": "8da391d4-f9e8-4c76-b8aa-8318808bee8d"
      },
      "source": [
        "verse.rfind('you')"
      ],
      "execution_count": null,
      "outputs": [
        {
          "output_type": "execute_result",
          "data": {
            "text/plain": [
              "186"
            ]
          },
          "metadata": {},
          "execution_count": 8
        }
      ]
    },
    {
      "cell_type": "code",
      "metadata": {
        "id": "S0Blkw2xJdKP"
      },
      "source": [
        "count = verse.count('you')"
      ],
      "execution_count": null,
      "outputs": []
    },
    {
      "cell_type": "code",
      "metadata": {
        "id": "rmSrgHCEJzcW",
        "colab": {
          "base_uri": "https://localhost:8080/"
        },
        "outputId": "8afa6dfa-788b-42c1-af2e-148c126e978b"
      },
      "source": [
        "print(count)"
      ],
      "execution_count": null,
      "outputs": [
        {
          "output_type": "stream",
          "name": "stdout",
          "text": [
            "8\n"
          ]
        }
      ]
    },
    {
      "cell_type": "code",
      "metadata": {
        "id": "QqZokmG7J1yx"
      },
      "source": [
        ""
      ],
      "execution_count": null,
      "outputs": []
    },
    {
      "cell_type": "markdown",
      "metadata": {
        "id": "L4oWGfPkyFQs"
      },
      "source": [
        "# Data Structures in Python"
      ]
    },
    {
      "cell_type": "code",
      "metadata": {
        "colab": {
          "base_uri": "https://localhost:8080/"
        },
        "id": "8ZTu6PQoyPb-",
        "outputId": "fc89a41d-aed4-4d6d-f99e-508d343945ad"
      },
      "source": [
        "month = 8\n",
        "days_in_month = [31,28,31,30,31,30,31,31,30,31,30,31]\n",
        "\n",
        "# use list indexing to determine the number of days in month\n",
        "\n",
        "num_days= days_in_month[month - 1]\n",
        "\n",
        "\n",
        "print(num_days)"
      ],
      "execution_count": 11,
      "outputs": [
        {
          "output_type": "stream",
          "name": "stdout",
          "text": [
            "31\n"
          ]
        }
      ]
    },
    {
      "cell_type": "code",
      "metadata": {
        "colab": {
          "base_uri": "https://localhost:8080/"
        },
        "id": "8jtqP6GpyRDA",
        "outputId": "db858c48-a028-4fd1-c4a7-4bac45512d3d"
      },
      "source": [
        "eclipse_dates = ['June 21, 2001', 'December 4, 2002', 'November 23, 2003',\n",
        "                 'March 29, 2006', 'August 1, 2008', 'July 22, 2009',\n",
        "                 'July 11, 2010', 'November 13, 2012', 'March 20, 2015',\n",
        "                 'March 9, 2016']\n",
        "                 \n",
        "                 \n",
        "# TODO: Modify this line so it prints the last three elements of the list\n",
        "print(eclipse_dates[-3:])"
      ],
      "execution_count": 13,
      "outputs": [
        {
          "output_type": "stream",
          "name": "stdout",
          "text": [
            "['November 13, 2012', 'March 20, 2015', 'March 9, 2016']\n"
          ]
        }
      ]
    },
    {
      "cell_type": "markdown",
      "metadata": {
        "id": "HXtNWksj9cYN"
      },
      "source": [
        "#LIST"
      ]
    },
    {
      "cell_type": "code",
      "metadata": {
        "colab": {
          "base_uri": "https://localhost:8080/"
        },
        "id": "jCZgOJB2zYEV",
        "outputId": "b6bf2064-d61f-4d68-9377-33e50f166afc"
      },
      "source": [
        "VINIX = ['C', 'MA', 'BA', 'PG', 'CSCO', 'VZ', 'PFE', 'HD', 'INTC', 'T', 'V', 'UNH', 'WFC', 'CVX', 'BAC', 'JNJ', 'GOOGL', 'GOOG', 'BRK.B', 'XOM', 'JPM', 'FB', 'AMZN', 'MSFT', 'AAPL']\n",
        "\n",
        "#Now, printing the tickers becomes slightly easier. And you don't have to remember the names of the strings!\n",
        "print('C' in VINIX)\n",
        "total_stocks=len(VINIX)+1\n",
        "print(total_stocks)"
      ],
      "execution_count": 24,
      "outputs": [
        {
          "output_type": "stream",
          "name": "stdout",
          "text": [
            "True\n",
            "26\n"
          ]
        }
      ]
    },
    {
      "cell_type": "code",
      "metadata": {
        "colab": {
          "base_uri": "https://localhost:8080/"
        },
        "id": "EFgvF9vV1GOh",
        "outputId": "67172e62-e2ed-4933-e0c5-6134de29c2e1"
      },
      "source": [
        "scores = ['a','b','f','p','z','l']\n",
        "sorted(scores)"
      ],
      "execution_count": 25,
      "outputs": [
        {
          "output_type": "execute_result",
          "data": {
            "text/plain": [
              "['a', 'b', 'f', 'l', 'p', 'z']"
            ]
          },
          "metadata": {},
          "execution_count": 25
        }
      ]
    },
    {
      "cell_type": "code",
      "metadata": {
        "colab": {
          "base_uri": "https://localhost:8080/",
          "height": 35
        },
        "id": "K99pebKj45bo",
        "outputId": "33e68166-71c3-43d5-fe78-27ac48765853"
      },
      "source": [
        "scores[3]"
      ],
      "execution_count": 27,
      "outputs": [
        {
          "output_type": "execute_result",
          "data": {
            "application/vnd.google.colaboratory.intrinsic+json": {
              "type": "string"
            },
            "text/plain": [
              "'p'"
            ]
          },
          "metadata": {},
          "execution_count": 27
        }
      ]
    },
    {
      "cell_type": "code",
      "metadata": {
        "id": "tMvZMKZr49M1"
      },
      "source": [
        "scores[3]='z'"
      ],
      "execution_count": 28,
      "outputs": []
    },
    {
      "cell_type": "code",
      "metadata": {
        "colab": {
          "base_uri": "https://localhost:8080/"
        },
        "id": "cAPFxoOL5Ele",
        "outputId": "739d2d14-ba83-4f64-e09c-03bdd2fe01f6"
      },
      "source": [
        "print(scores)"
      ],
      "execution_count": 29,
      "outputs": [
        {
          "output_type": "stream",
          "name": "stdout",
          "text": [
            "['a', 'b', 'f', 'z', 'z', 'l']\n"
          ]
        }
      ]
    },
    {
      "cell_type": "code",
      "metadata": {
        "colab": {
          "base_uri": "https://localhost:8080/"
        },
        "id": "pD386WnP5HA1",
        "outputId": "8b0657fa-f10f-4137-cd11-edd25ddc20fb"
      },
      "source": [
        "print('scores are' + str(scores) )"
      ],
      "execution_count": 33,
      "outputs": [
        {
          "output_type": "stream",
          "name": "stdout",
          "text": [
            "scores are['a', 'b', 'f', 'z', 'z', 'l']\n"
          ]
        }
      ]
    },
    {
      "cell_type": "code",
      "metadata": {
        "colab": {
          "base_uri": "https://localhost:8080/"
        },
        "id": "r3gDaZqi5Mhy",
        "outputId": "ef515724-2f7d-4456-c6d2-878ecb8a5d98"
      },
      "source": [
        "deltadriz= [\"fore\", \"aft\", \"starboard\", \"port\"]\n",
        "new_str = \"\\n\".join(deltadriz)\n",
        "print(new_str)"
      ],
      "execution_count": 35,
      "outputs": [
        {
          "output_type": "stream",
          "name": "stdout",
          "text": [
            "fore\n",
            "aft\n",
            "starboard\n",
            "port\n"
          ]
        }
      ]
    },
    {
      "cell_type": "code",
      "metadata": {
        "colab": {
          "base_uri": "https://localhost:8080/"
        },
        "id": "Z7F4chRN51uJ",
        "outputId": "73f7b463-415c-4b05-c282-a10efc01b281"
      },
      "source": [
        "deltadriz= [\"fore\", \"aft\", \"starboard\", \"port\"]\n",
        "new_str = \"--\".join(deltadriz)\n",
        "print(new_str)"
      ],
      "execution_count": 36,
      "outputs": [
        {
          "output_type": "stream",
          "name": "stdout",
          "text": [
            "fore--aft--starboard--port\n"
          ]
        }
      ]
    },
    {
      "cell_type": "code",
      "metadata": {
        "colab": {
          "base_uri": "https://localhost:8080/"
        },
        "id": "xzJvIz6t6BgS",
        "outputId": "2ffc4fae-b69b-4c3b-e511-f6f011bafc97"
      },
      "source": [
        "letters = ['a', 'b', 'c', 'd',\"fore\", \"aft\", \"starboard\", \"port\"]\n",
        "letters.append('z')\n",
        "print(letters)"
      ],
      "execution_count": 37,
      "outputs": [
        {
          "output_type": "stream",
          "name": "stdout",
          "text": [
            "['a', 'b', 'c', 'd', 'fore', 'aft', 'starboard', 'port', 'z']\n"
          ]
        }
      ]
    },
    {
      "cell_type": "code",
      "metadata": {
        "colab": {
          "base_uri": "https://localhost:8080/"
        },
        "id": "znau_9HP6P3H",
        "outputId": "8ec3a035-1845-4de5-d4f3-2b26e2354741"
      },
      "source": [
        "a = [1, 5, 8]\n",
        "b = [2, 6, 9, 10]\n",
        "c = [100, 200]\n",
        "\n",
        "print(max([len(a), len(b), len(c)]))\n",
        "print(min([len(a), len(b), len(c)]))"
      ],
      "execution_count": 38,
      "outputs": [
        {
          "output_type": "stream",
          "name": "stdout",
          "text": [
            "4\n",
            "2\n"
          ]
        }
      ]
    },
    {
      "cell_type": "code",
      "metadata": {
        "colab": {
          "base_uri": "https://localhost:8080/"
        },
        "id": "zpg9-OLk6Y6K",
        "outputId": "a4138b39-1baa-46dd-8161-d05d638d7631"
      },
      "source": [
        "names = [\"Carol\", \"Albert\", \"Ben\", \"Donna\"]\n",
        "names.append(\"Eugenia\")\n",
        "print(sorted(names))\n",
        "jeez=\"-&6%\".join(names)\n",
        "print(jeez)"
      ],
      "execution_count": 41,
      "outputs": [
        {
          "output_type": "stream",
          "name": "stdout",
          "text": [
            "['Albert', 'Ben', 'Carol', 'Donna', 'Eugenia']\n",
            "Carol-&6%Albert-&6%Ben-&6%Donna-&6%Eugenia\n"
          ]
        }
      ]
    },
    {
      "cell_type": "code",
      "metadata": {
        "id": "5O1QDUJ57DMw"
      },
      "source": [
        ""
      ],
      "execution_count": null,
      "outputs": []
    },
    {
      "cell_type": "markdown",
      "metadata": {
        "id": "MzI0Cx589s2S"
      },
      "source": [
        "# TUPLES"
      ]
    },
    {
      "cell_type": "markdown",
      "metadata": {
        "id": "znb8zjuW9104"
      },
      "source": [
        "Ordered and Imumutable\n"
      ]
    },
    {
      "cell_type": "code",
      "metadata": {
        "colab": {
          "base_uri": "https://localhost:8080/"
        },
        "id": "bn48kE2e9wsx",
        "outputId": "d2cd5f46-d2be-4947-8336-869dcdbb9bb0"
      },
      "source": [
        "location = (13.4125, 103.866667)\n",
        "print(\"Latitude:\", location[0])\n",
        "print(\"Longitude:\", location[1])\n",
        "latitude, longitude = location[0], location[1]\n"
      ],
      "execution_count": 42,
      "outputs": [
        {
          "output_type": "stream",
          "name": "stdout",
          "text": [
            "Latitude: 13.4125\n",
            "Longitude: 103.866667\n"
          ]
        }
      ]
    },
    {
      "cell_type": "code",
      "metadata": {
        "colab": {
          "base_uri": "https://localhost:8080/"
        },
        "id": "QNhyy-QL-JwS",
        "outputId": "30c5eda8-4b31-45da-b4d4-c8a51e1b3b37"
      },
      "source": [
        "dimensions = 0, 1, 2, 3\n",
        "a, b, c, d = dimensions\n",
        "print ('the dimensions are {} x {} x {} x {}'.format(a, b, c, d))"
      ],
      "execution_count": 46,
      "outputs": [
        {
          "output_type": "stream",
          "name": "stdout",
          "text": [
            "the dimensions are 0 x 1 x 2 x 3\n"
          ]
        }
      ]
    },
    {
      "cell_type": "code",
      "metadata": {
        "colab": {
          "base_uri": "https://localhost:8080/"
        },
        "id": "Xcal0H33_Qk2",
        "outputId": "9155b4c2-e8ed-48a4-8713-8dd2c222cff5"
      },
      "source": [
        "tuple_a=1,2,3\n",
        "tube_b = (1,2,3)\n",
        "print(tuple_a==tube_b)"
      ],
      "execution_count": 48,
      "outputs": [
        {
          "output_type": "stream",
          "name": "stdout",
          "text": [
            "True\n"
          ]
        }
      ]
    },
    {
      "cell_type": "markdown",
      "metadata": {
        "id": "wGWHpKp8pofG"
      },
      "source": [
        "# SET"
      ]
    },
    {
      "cell_type": "code",
      "metadata": {
        "colab": {
          "base_uri": "https://localhost:8080/"
        },
        "id": "8tzXxyt_-f87",
        "outputId": "0293f5c2-609e-4377-fb23-a278741f17c2"
      },
      "source": [
        "a = [1, 2, 2, 3, 3, 3, 4, 4, 4, 4]\n",
        "b = set(a)\n",
        "print(len(a) - len(b))"
      ],
      "execution_count": 1,
      "outputs": [
        {
          "output_type": "stream",
          "name": "stdout",
          "text": [
            "6\n"
          ]
        }
      ]
    },
    {
      "cell_type": "code",
      "metadata": {
        "colab": {
          "base_uri": "https://localhost:8080/"
        },
        "id": "7WvTqSGCpwOi",
        "outputId": "c49c4410-72e5-4562-f131-7d76a8e3c460"
      },
      "source": [
        "a = [1, 2, 2, 3, 3, 3, 4, 4, 4, 4]\n",
        "b = set(a)\n",
        "b.add(5)\n",
        "print(b)\n",
        "b.pop()\n",
        "print(b)\n",
        "b.pop()\n",
        "print(b)\n"
      ],
      "execution_count": 10,
      "outputs": [
        {
          "output_type": "stream",
          "name": "stdout",
          "text": [
            "{1, 2, 3, 4, 5}\n",
            "{2, 3, 4, 5}\n",
            "{3, 4, 5}\n"
          ]
        }
      ]
    },
    {
      "cell_type": "code",
      "metadata": {
        "id": "zEpN-b4_p2b_"
      },
      "source": [
        ""
      ],
      "execution_count": 6,
      "outputs": []
    },
    {
      "cell_type": "markdown",
      "metadata": {
        "id": "xbXZEanftE8T"
      },
      "source": [
        "# DICTIONARY\n"
      ]
    },
    {
      "cell_type": "code",
      "metadata": {
        "colab": {
          "base_uri": "https://localhost:8080/"
        },
        "id": "YNq7ozZ2tIsV",
        "outputId": "593cd3c5-241b-462b-f452-72aefa027d91"
      },
      "source": [
        "# Define a Dictionary, population,\n",
        "# that provides information\n",
        "# on the world's largest cities.\n",
        "# The key is the name of a city\n",
        "# (a string), and the associated\n",
        "# value is its population in\n",
        "# millions of people.\n",
        "\n",
        "#   Key     |   Value\n",
        "# Shanghai  |   17.8\n",
        "# Istanbul  |   13.3\n",
        "# Karachi   |   13.0\n",
        "# Mumbai    |   12.5\n",
        "\n",
        "population = {'Shanghai':17.8,'Instanbul':13.3,'Karachi':13.0,'Mumbai':12.5}\n",
        "print (population)"
      ],
      "execution_count": 12,
      "outputs": [
        {
          "output_type": "stream",
          "name": "stdout",
          "text": [
            "{'Shanghai': 17.8, 'Instanbul': 13.3, 'Karachi': 13.0, 'Mumbai': 12.5}\n"
          ]
        }
      ]
    },
    {
      "cell_type": "code",
      "metadata": {
        "colab": {
          "base_uri": "https://localhost:8080/"
        },
        "id": "OHltCfVstoGp",
        "outputId": "bf17c306-dbc0-4b8b-933d-617dfbbdaa57"
      },
      "source": [
        "print(population.get('London'))"
      ],
      "execution_count": 13,
      "outputs": [
        {
          "output_type": "stream",
          "name": "stdout",
          "text": [
            "None\n"
          ]
        }
      ]
    },
    {
      "cell_type": "code",
      "metadata": {
        "colab": {
          "base_uri": "https://localhost:8080/",
          "height": 35
        },
        "id": "CWdJWI91uWGS",
        "outputId": "4e237c0c-bf9a-4659-bf90-6d7dacb59721"
      },
      "source": [
        "population.get(\"america\",'you dumb bro, wrong fricking cityy biatch')"
      ],
      "execution_count": 15,
      "outputs": [
        {
          "output_type": "execute_result",
          "data": {
            "application/vnd.google.colaboratory.intrinsic+json": {
              "type": "string"
            },
            "text/plain": [
              "'you dumb bro, wrong fricking cityy biatch'"
            ]
          },
          "metadata": {},
          "execution_count": 15
        }
      ]
    },
    {
      "cell_type": "code",
      "metadata": {
        "colab": {
          "base_uri": "https://localhost:8080/"
        },
        "id": "YIJPxrwVuqjC",
        "outputId": "cd7b9f17-d22b-4b74-eba6-8744b2ac9696"
      },
      "source": [
        "animals = {'dogs': [20, 10, 15, 8, 32, 15], 'cats': [3,4,2,8,2,4], 'rabbits': [2, 3, 3], 'fish': [0.3, 0.5, 0.8, 0.3, 1]}\n",
        "print (animals['dogs'][5],animals['cats'])"
      ],
      "execution_count": 27,
      "outputs": [
        {
          "output_type": "stream",
          "name": "stdout",
          "text": [
            "15 [3, 4, 2, 8, 2, 4]\n"
          ]
        }
      ]
    },
    {
      "cell_type": "code",
      "metadata": {
        "colab": {
          "base_uri": "https://localhost:8080/"
        },
        "id": "AXinPqkSvvvQ",
        "outputId": "97c26580-8f71-42fa-cf1c-73f08fff18d0"
      },
      "source": [
        "type(animals)"
      ],
      "execution_count": 23,
      "outputs": [
        {
          "output_type": "execute_result",
          "data": {
            "text/plain": [
              "dict"
            ]
          },
          "metadata": {},
          "execution_count": 23
        }
      ]
    },
    {
      "cell_type": "code",
      "metadata": {
        "colab": {
          "base_uri": "https://localhost:8080/"
        },
        "id": "LnP_COVjwPBe",
        "outputId": "c2e4721a-84bf-4412-e70c-d59d1df4f0cb"
      },
      "source": [
        "type(animals['dogs'])"
      ],
      "execution_count": 25,
      "outputs": [
        {
          "output_type": "execute_result",
          "data": {
            "text/plain": [
              "list"
            ]
          },
          "metadata": {},
          "execution_count": 25
        }
      ]
    },
    {
      "cell_type": "code",
      "metadata": {
        "colab": {
          "base_uri": "https://localhost:8080/"
        },
        "id": "6cUJ8p3EwSHh",
        "outputId": "b5c9a6bc-a260-4c9a-c849-0aa62a349744"
      },
      "source": [
        "VINIX = {'C': [0.74, -6.51], 'MA': [0.78, 34.77], 'BA': [0.79, 17.01], 'PG': [0.85, -8.81], 'CSCO': [0.88, 18.56], 'VZ': [0.9, 2.16], 'PFE': [0.92, 13.96], 'HD': [0.97, 3.2], 'INTC': [1.0, 2.61], 'T': [1.01, -15.19], 'V': [1.02, 24.0], 'UNH': [1.02, 19.32], 'WFC': [1.05, -3.59], 'CVX': [1.05, -5.77], 'BAC': [1.15, 4.27], 'JNJ': [1.41, -5.58], 'GOOGL': [1.46, 17.84], 'GOOG': [1.47, 17.03], 'BRK.B': [1.5, 4.54], 'XOM': [1.52, -6.87], 'JPM': [1.53, 7.66], 'FB': [2.02, 0.91], 'AMZN': [2.96, 62.75], 'MSFT': [3.28, 26.61], 'AAPL': [3.94, 26.01]}\n",
        "print(VINIX.get('PG','Naah'))"
      ],
      "execution_count": 33,
      "outputs": [
        {
          "output_type": "stream",
          "name": "stdout",
          "text": [
            "[0.85, -8.81]\n"
          ]
        }
      ]
    },
    {
      "cell_type": "code",
      "metadata": {
        "colab": {
          "base_uri": "https://localhost:8080/",
          "height": 214
        },
        "id": "VSlAGYXYx1EP",
        "outputId": "c87659a7-3ddb-49e3-fdce-a2c9f048ddbc"
      },
      "source": [
        "# invalid dictionary - this should break\n",
        "room_numbers = {\n",
        "    ['Freddie', 'Jen']: 403,\n",
        "    ['Ned', 'Keith']: 391,\n",
        "    ['Kristin', 'Jazzmyne']: 411,\n",
        "    ['Eugene', 'Zach']: 395\n",
        "}"
      ],
      "execution_count": 34,
      "outputs": [
        {
          "output_type": "error",
          "ename": "TypeError",
          "evalue": "ignored",
          "traceback": [
            "\u001b[0;31m---------------------------------------------------------------------------\u001b[0m",
            "\u001b[0;31mTypeError\u001b[0m                                 Traceback (most recent call last)",
            "\u001b[0;32m<ipython-input-34-6eccaac2d264>\u001b[0m in \u001b[0;36m<module>\u001b[0;34m()\u001b[0m\n\u001b[1;32m      4\u001b[0m     \u001b[0;34m[\u001b[0m\u001b[0;34m'Ned'\u001b[0m\u001b[0;34m,\u001b[0m \u001b[0;34m'Keith'\u001b[0m\u001b[0;34m]\u001b[0m\u001b[0;34m:\u001b[0m \u001b[0;36m391\u001b[0m\u001b[0;34m,\u001b[0m\u001b[0;34m\u001b[0m\u001b[0;34m\u001b[0m\u001b[0m\n\u001b[1;32m      5\u001b[0m     \u001b[0;34m[\u001b[0m\u001b[0;34m'Kristin'\u001b[0m\u001b[0;34m,\u001b[0m \u001b[0;34m'Jazzmyne'\u001b[0m\u001b[0;34m]\u001b[0m\u001b[0;34m:\u001b[0m \u001b[0;36m411\u001b[0m\u001b[0;34m,\u001b[0m\u001b[0;34m\u001b[0m\u001b[0;34m\u001b[0m\u001b[0m\n\u001b[0;32m----> 6\u001b[0;31m     \u001b[0;34m[\u001b[0m\u001b[0;34m'Eugene'\u001b[0m\u001b[0;34m,\u001b[0m \u001b[0;34m'Zach'\u001b[0m\u001b[0;34m]\u001b[0m\u001b[0;34m:\u001b[0m \u001b[0;36m395\u001b[0m\u001b[0;34m\u001b[0m\u001b[0;34m\u001b[0m\u001b[0m\n\u001b[0m\u001b[1;32m      7\u001b[0m }\n",
            "\u001b[0;31mTypeError\u001b[0m: unhashable type: 'list'"
          ]
        }
      ]
    },
    {
      "cell_type": "code",
      "metadata": {
        "colab": {
          "base_uri": "https://localhost:8080/"
        },
        "id": "A3Vl7q3r0QD7",
        "outputId": "dc388823-ae37-405e-9529-8f528e3be927"
      },
      "source": [
        "elements = {\"hydrogen\": {\"number\": 1,\n",
        "                         \"weight\": 1.00794,\n",
        "                         \"symbol\": \"H\"},\n",
        "              \"helium\": {\"number\": 2,\n",
        "                         \"weight\": 4.002602,\n",
        "                         \"symbol\": \"He\"}}\n",
        "print (elements)"
      ],
      "execution_count": 35,
      "outputs": [
        {
          "output_type": "stream",
          "name": "stdout",
          "text": [
            "{'hydrogen': {'number': 1, 'weight': 1.00794, 'symbol': 'H'}, 'helium': {'number': 2, 'weight': 4.002602, 'symbol': 'He'}}\n"
          ]
        }
      ]
    },
    {
      "cell_type": "code",
      "metadata": {
        "colab": {
          "base_uri": "https://localhost:8080/"
        },
        "id": "wegewP1W0zqG",
        "outputId": "8260ab4b-16c9-4598-bcf7-598c2e58a0d1"
      },
      "source": [
        "elements['helium']['weight']"
      ],
      "execution_count": 36,
      "outputs": [
        {
          "output_type": "execute_result",
          "data": {
            "text/plain": [
              "4.002602"
            ]
          },
          "metadata": {},
          "execution_count": 36
        }
      ]
    },
    {
      "cell_type": "code",
      "metadata": {
        "id": "239yGsbM1EJr"
      },
      "source": [
        "oxygen = {'oxygen':{'number':8,'weight':8.04,'symbol':'O'}}"
      ],
      "execution_count": 39,
      "outputs": []
    },
    {
      "cell_type": "code",
      "metadata": {
        "id": "Pj5WVqDg1W9H"
      },
      "source": [
        "elements['Oxygen']=oxygen"
      ],
      "execution_count": 40,
      "outputs": []
    },
    {
      "cell_type": "code",
      "metadata": {
        "colab": {
          "base_uri": "https://localhost:8080/"
        },
        "id": "qjOtMEaG1feV",
        "outputId": "1674da11-2543-4563-d9d9-ead639b545e3"
      },
      "source": [
        "print(elements)"
      ],
      "execution_count": 41,
      "outputs": [
        {
          "output_type": "stream",
          "name": "stdout",
          "text": [
            "{'hydrogen': {'number': 1, 'weight': 1.00794, 'symbol': 'H'}, 'helium': {'number': 2, 'weight': 4.002602, 'symbol': 'He'}, 'Oxygen': {'oxygen': {'number': 8, 'weight': 8.04, 'symbol': 'O'}}}\n"
          ]
        }
      ]
    },
    {
      "cell_type": "code",
      "metadata": {
        "colab": {
          "base_uri": "https://localhost:8080/"
        },
        "id": "jYZ-HNRZ1hiG",
        "outputId": "02152334-2b80-4b14-94af-4f17f0921aa6"
      },
      "source": [
        "verse = \"if you can keep your head when all about you are losing theirs and blaming it on you   if you can trust yourself when all men doubt you     but make allowance for their doubting too   if you can wait and not be tired by waiting      or being lied about  don’t deal in lies   or being hated  don’t give way to hating      and yet don’t look too good  nor talk too wise\"\n",
        "print(verse, '\\n')\n",
        "\n",
        "# split verse into list of words\n",
        "verse_list = verse.split()\n",
        "print(verse_list, '\\n')\n",
        "\n",
        "\n",
        "\n",
        "# print the number of unique words\n",
        "num_unique = set(verse_list)\n",
        "print(num_unique, '\\n')\n",
        "\n"
      ],
      "execution_count": 45,
      "outputs": [
        {
          "output_type": "stream",
          "name": "stdout",
          "text": [
            "if you can keep your head when all about you are losing theirs and blaming it on you   if you can trust yourself when all men doubt you     but make allowance for their doubting too   if you can wait and not be tired by waiting      or being lied about  don’t deal in lies   or being hated  don’t give way to hating      and yet don’t look too good  nor talk too wise \n",
            "\n",
            "['if', 'you', 'can', 'keep', 'your', 'head', 'when', 'all', 'about', 'you', 'are', 'losing', 'theirs', 'and', 'blaming', 'it', 'on', 'you', 'if', 'you', 'can', 'trust', 'yourself', 'when', 'all', 'men', 'doubt', 'you', 'but', 'make', 'allowance', 'for', 'their', 'doubting', 'too', 'if', 'you', 'can', 'wait', 'and', 'not', 'be', 'tired', 'by', 'waiting', 'or', 'being', 'lied', 'about', 'don’t', 'deal', 'in', 'lies', 'or', 'being', 'hated', 'don’t', 'give', 'way', 'to', 'hating', 'and', 'yet', 'don’t', 'look', 'too', 'good', 'nor', 'talk', 'too', 'wise'] \n",
            "\n",
            "{'nor', 'about', 'wait', 'men', 'head', 'be', 'it', 'but', 'doubting', 'look', 'talk', 'by', 'lies', 'or', 'you', 'blaming', 'in', 'doubt', 'hated', 'when', 'theirs', 'on', 'your', 'losing', 'hating', 'being', 'tired', 'and', 'yourself', 'way', 'give', 'don’t', 'can', 'keep', 'all', 'for', 'too', 'are', 'good', 'their', 'deal', 'to', 'waiting', 'not', 'lied', 'wise', 'allowance', 'yet', 'if', 'trust', 'make'} \n",
            "\n"
          ]
        }
      ]
    },
    {
      "cell_type": "code",
      "metadata": {
        "id": "ricS_7e_FKAS"
      },
      "source": [
        ""
      ],
      "execution_count": null,
      "outputs": []
    },
    {
      "cell_type": "markdown",
      "metadata": {
        "id": "W8TpfOGkbgXP"
      },
      "source": [
        "# CONTROL FLOW\n"
      ]
    },
    {
      "cell_type": "code",
      "metadata": {
        "colab": {
          "base_uri": "https://localhost:8080/"
        },
        "id": "xn76FMddbjsw",
        "outputId": "b8728add-2bf2-4fbe-9a98-ed2faaf2627c"
      },
      "source": [
        "season = 'Baarish'\n",
        "if season == 'spring':\n",
        "    print('plant the garden!')\n",
        "elif season == 'summer':\n",
        "    print('water the garden!')\n",
        "elif season == 'fall':\n",
        "    print('harvest the garden!')\n",
        "elif season == 'winter':\n",
        "    print('stay indoors!')\n",
        "else:\n",
        "    print('unrecognized season')"
      ],
      "execution_count": 1,
      "outputs": [
        {
          "output_type": "stream",
          "name": "stdout",
          "text": [
            "unrecognized season\n"
          ]
        }
      ]
    },
    {
      "cell_type": "code",
      "metadata": {
        "colab": {
          "base_uri": "https://localhost:8080/"
        },
        "id": "6UeRAGoB9E0p",
        "outputId": "ba7a7d90-f045-4abb-d73b-7f9ac83343e5"
      },
      "source": [
        "#First Example - try changing the value of phone_balance\n",
        "phone_balance = 10\n",
        "bank_balance = 50\n",
        "\n",
        "if phone_balance < 10:\n",
        "    phone_balance += 10\n",
        "    bank_balance -= 10\n",
        "\n",
        "print(phone_balance)\n",
        "print(bank_balance)\n",
        "\n",
        "#Second Example - try changing the value of number\n",
        "\n",
        "number = 142\n",
        "if number % 2 == 0:\n",
        "    print(\"Number \" + str(number) + \" is even.\")\n",
        "else:\n",
        "    print(\"Number \" + str(number) + \" is odd.\")\n",
        "\n",
        "#Third Example - try to change the value of age\n",
        "age = 63\n",
        "\n",
        "# Here are the age limits for bus fares\n",
        "free_up_to_age = 4\n",
        "child_up_to_age = 18\n",
        "senior_from_age = 65\n",
        "\n",
        "# These lines determine the bus fare prices\n",
        "concession_ticket = 1.25\n",
        "adult_ticket = 2.50\n",
        "\n",
        "# Here is the logic for bus fare prices\n",
        "if age <= free_up_to_age:\n",
        "    ticket_price = 0\n",
        "elif age <= child_up_to_age:\n",
        "    ticket_price = concession_ticket\n",
        "elif age >= senior_from_age:\n",
        "    ticket_price = concession_ticket\n",
        "else:\n",
        "    ticket_price = adult_ticket\n",
        "\n",
        "message = \"Somebody who is {} years old will pay ${} to ride the bus.\".format(age, ticket_price)\n",
        "print(message)"
      ],
      "execution_count": 3,
      "outputs": [
        {
          "output_type": "stream",
          "name": "stdout",
          "text": [
            "10\n",
            "50\n",
            "Number 142 is even.\n",
            "Somebody who is 63 years old will pay $2.5 to ride the bus.\n"
          ]
        }
      ]
    },
    {
      "cell_type": "code",
      "metadata": {
        "colab": {
          "base_uri": "https://localhost:8080/"
        },
        "id": "kvi7yUsH9oMj",
        "outputId": "87755e0b-2710-4f50-f601-aba002bc546e"
      },
      "source": [
        "points = 174  # use this input to make your submission\n",
        "\n",
        "# write your if statement here\n",
        "if points <51:\n",
        "    print( \"your prize is {}\".format('wooden rabbit'))\n",
        "elif points <151:\n",
        "    print( \"your prize is {}\".format('no prize'))\n",
        "elif points < 181 :\n",
        "    print( \"your prize is {}\".format('wafer thin mint'))\n",
        "else:\n",
        "    print( \"your prize is {}\".format('penguin'))\n",
        "    \n"
      ],
      "execution_count": 7,
      "outputs": [
        {
          "output_type": "stream",
          "name": "stdout",
          "text": [
            "your prize is wafer thin mint\n"
          ]
        }
      ]
    },
    {
      "cell_type": "code",
      "metadata": {
        "id": "AGgica4GBGHh"
      },
      "source": [
        ""
      ],
      "execution_count": null,
      "outputs": []
    }
  ]
}