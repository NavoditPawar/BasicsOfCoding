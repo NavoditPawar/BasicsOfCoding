{
  "nbformat": 4,
  "nbformat_minor": 0,
  "metadata": {
    "colab": {
      "name": "Untitled1.ipynb",
      "provenance": [],
      "collapsed_sections": [
        "7E8b7wUFWQvo",
        "L4oWGfPkyFQs",
        "HXtNWksj9cYN",
        "MzI0Cx589s2S",
        "wGWHpKp8pofG",
        "xbXZEanftE8T"
      ],
      "toc_visible": true,
      "authorship_tag": "ABX9TyMmq6PnkOhtDducsgMRCRqz",
      "include_colab_link": true
    },
    "kernelspec": {
      "name": "python3",
      "display_name": "Python 3"
    },
    "language_info": {
      "name": "python"
    }
  },
  "cells": [
    {
      "cell_type": "markdown",
      "metadata": {
        "id": "view-in-github",
        "colab_type": "text"
      },
      "source": [
        "<a href=\"https://colab.research.google.com/github/NavoditPawar/BasicsOfCoding/blob/master/control_flow.ipynb\" target=\"_parent\"><img src=\"https://colab.research.google.com/assets/colab-badge.svg\" alt=\"Open In Colab\"/></a>"
      ]
    },
    {
      "cell_type": "markdown",
      "metadata": {
        "id": "7E8b7wUFWQvo"
      },
      "source": [
        "# Basics of Python"
      ]
    },
    {
      "cell_type": "code",
      "metadata": {
        "colab": {
          "base_uri": "https://localhost:8080/"
        },
        "id": "egy1ALSlsv58",
        "outputId": "fdaffcc4-16d9-4be3-fa97-3deb9d0c05e8"
      },
      "source": [
        "reservior_vol= 4.445e8\n",
        "print(reservior_vol)\n",
        "rainfall = 5e6\n",
        "print(rainfall)"
      ],
      "execution_count": null,
      "outputs": [
        {
          "output_type": "stream",
          "name": "stdout",
          "text": [
            "444500000.0\n",
            "5000000.0\n"
          ]
        }
      ]
    },
    {
      "cell_type": "code",
      "metadata": {
        "colab": {
          "base_uri": "https://localhost:8080/"
        },
        "id": "vkJ0nIqPs4F9",
        "outputId": "6ea98632-a709-46c1-d48d-0898984f536a"
      },
      "source": [
        "rainfall *= 0.9\n",
        "print(rainfall)"
      ],
      "execution_count": null,
      "outputs": [
        {
          "output_type": "stream",
          "name": "stdout",
          "text": [
            "4050000.0\n"
          ]
        }
      ]
    },
    {
      "cell_type": "code",
      "metadata": {
        "id": "azhsgSMotH1y"
      },
      "source": [
        "reservior_vol+=rainfall"
      ],
      "execution_count": null,
      "outputs": []
    },
    {
      "cell_type": "code",
      "metadata": {
        "colab": {
          "base_uri": "https://localhost:8080/"
        },
        "id": "De0yQNFntVBW",
        "outputId": "50e2c460-665e-4fd5-d78c-0941ed31a13e"
      },
      "source": [
        "print(reservior_vol)"
      ],
      "execution_count": null,
      "outputs": [
        {
          "output_type": "stream",
          "name": "stdout",
          "text": [
            "448550000.0\n"
          ]
        }
      ]
    },
    {
      "cell_type": "code",
      "metadata": {
        "colab": {
          "base_uri": "https://localhost:8080/"
        },
        "id": "LIOTGu8utYAO",
        "outputId": "d3f0d847-e5bc-4e4c-d5c4-5416dce71c6b"
      },
      "source": [
        "reservior_vol*=1.05\n",
        "print(reservior_vol)"
      ],
      "execution_count": null,
      "outputs": [
        {
          "output_type": "stream",
          "name": "stdout",
          "text": [
            "470977500.0\n"
          ]
        }
      ]
    },
    {
      "cell_type": "code",
      "metadata": {
        "colab": {
          "base_uri": "https://localhost:8080/"
        },
        "id": "wGNFeZyGter1",
        "outputId": "087f62a2-3068-43c5-cf08-d87d912d3c32"
      },
      "source": [
        "reservior_vol*=0.95\n",
        "print(reservior_vol)"
      ],
      "execution_count": null,
      "outputs": [
        {
          "output_type": "stream",
          "name": "stdout",
          "text": [
            "447428625.0\n"
          ]
        }
      ]
    },
    {
      "cell_type": "code",
      "metadata": {
        "colab": {
          "base_uri": "https://localhost:8080/"
        },
        "id": "pwRA6V79tpMr",
        "outputId": "44b60e50-a132-4437-8684-70b952f02897"
      },
      "source": [
        "reservior_vol-=2.5e5\n",
        "print(reservior_vol)"
      ],
      "execution_count": null,
      "outputs": [
        {
          "output_type": "stream",
          "name": "stdout",
          "text": [
            "447178625.0\n"
          ]
        }
      ]
    },
    {
      "cell_type": "code",
      "metadata": {
        "id": "LjVJvZhotyIg"
      },
      "source": [
        "\n",
        "carrots = 24\n",
        "rabbit = 8\n",
        "crb_pr_rab = carrots / rabbit"
      ],
      "execution_count": null,
      "outputs": []
    },
    {
      "cell_type": "code",
      "metadata": {
        "colab": {
          "base_uri": "https://localhost:8080/"
        },
        "id": "Pg8jn7Qmvk5-",
        "outputId": "eb7096cd-90b3-4156-d3cb-ae1dab965c71"
      },
      "source": [
        "print(crb_pr_rab)"
      ],
      "execution_count": null,
      "outputs": [
        {
          "output_type": "stream",
          "name": "stdout",
          "text": [
            "3.0\n"
          ]
        }
      ]
    },
    {
      "cell_type": "code",
      "metadata": {
        "colab": {
          "base_uri": "https://localhost:8080/"
        },
        "id": "9axHg7JMvnka",
        "outputId": "619ca392-8b56-4008-f061-33d8dc0fad25"
      },
      "source": [
        "rabbit=12\n",
        "print(crb_pr_rab)"
      ],
      "execution_count": null,
      "outputs": [
        {
          "output_type": "stream",
          "name": "stdout",
          "text": [
            "3.0\n"
          ]
        }
      ]
    },
    {
      "cell_type": "code",
      "metadata": {
        "colab": {
          "base_uri": "https://localhost:8080/"
        },
        "id": "dJ-OQG4fvuMy",
        "outputId": "9fc25bd0-f9f4-4fec-cb88-b4b7f3bfb0dc"
      },
      "source": [
        "treats = 19/0.01\n",
        "print (treats)"
      ],
      "execution_count": null,
      "outputs": [
        {
          "output_type": "stream",
          "name": "stdout",
          "text": [
            "1900.0\n"
          ]
        }
      ]
    },
    {
      "cell_type": "code",
      "metadata": {
        "colab": {
          "base_uri": "https://localhost:8080/"
        },
        "id": "M99a5zlMz8Mm",
        "outputId": "192b4e68-3801-488c-e58e-89703606b085"
      },
      "source": [
        "sf_population, sf_area = 864816, 231.89\n",
        "rio_population, rio_area = 6453682, 486.5\n",
        "\n",
        "san_francisco_pop_density = sf_population/sf_area\n",
        "rio_de_janeiro_pop_density = rio_population/rio_area\n",
        "\n",
        "# Write code that prints True if San Francisco is denser than Rio, and False otherwise\n",
        "density = san_francisco_pop_density > rio_de_janeiro_pop_density\n",
        "print(density)"
      ],
      "execution_count": null,
      "outputs": [
        {
          "output_type": "stream",
          "name": "stdout",
          "text": [
            "False\n"
          ]
        }
      ]
    },
    {
      "cell_type": "code",
      "metadata": {
        "colab": {
          "base_uri": "https://localhost:8080/"
        },
        "id": "oTLoEIhY107i",
        "outputId": "b762a6c4-95f6-4dbb-e220-19ba34ce6e8c"
      },
      "source": [
        "statement = '\" i think you\\'re an exceptional persona\"'\n",
        "print(statement)"
      ],
      "execution_count": null,
      "outputs": [
        {
          "output_type": "stream",
          "name": "stdout",
          "text": [
            "\" i think you're an exceptional persona\"\n"
          ]
        }
      ]
    },
    {
      "cell_type": "code",
      "metadata": {
        "colab": {
          "base_uri": "https://localhost:8080/"
        },
        "id": "b_XTta194fO-",
        "outputId": "1e4877a8-9e88-4ff7-b96c-c2ddbb076cb6"
      },
      "source": [
        "first = 'howdy brotha'\n",
        "second = 'you goooooood?'\n",
        "print ((first +  \" \"  + second)*5 )"
      ],
      "execution_count": null,
      "outputs": [
        {
          "output_type": "stream",
          "name": "stdout",
          "text": [
            "howdy brotha you goooooood?howdy brotha you goooooood?howdy brotha you goooooood?howdy brotha you goooooood?howdy brotha you goooooood?\n"
          ]
        }
      ]
    },
    {
      "cell_type": "code",
      "metadata": {
        "colab": {
          "base_uri": "https://localhost:8080/"
        },
        "id": "AKiqOLXX5L5K",
        "outputId": "5cd91be2-53bf-48ca-d8a2-706ce14523d7"
      },
      "source": [
        "print (len(first))"
      ],
      "execution_count": null,
      "outputs": [
        {
          "output_type": "stream",
          "name": "stdout",
          "text": [
            "12\n"
          ]
        }
      ]
    },
    {
      "cell_type": "code",
      "metadata": {
        "colab": {
          "base_uri": "https://localhost:8080/"
        },
        "id": "iOjekZBO5nmm",
        "outputId": "2fe8e89a-e5b0-4d37-eb15-de4915eab112"
      },
      "source": [
        "print(type(first))"
      ],
      "execution_count": null,
      "outputs": [
        {
          "output_type": "stream",
          "name": "stdout",
          "text": [
            "<class 'str'>\n"
          ]
        }
      ]
    },
    {
      "cell_type": "code",
      "metadata": {
        "colab": {
          "base_uri": "https://localhost:8080/",
          "height": 35
        },
        "id": "t9DfCs-Q5wqn",
        "outputId": "cdd47d0c-247f-43f4-8513-c8d974fc06b5"
      },
      "source": [
        "first[0]"
      ],
      "execution_count": null,
      "outputs": [
        {
          "output_type": "execute_result",
          "data": {
            "application/vnd.google.colaboratory.intrinsic+json": {
              "type": "string"
            },
            "text/plain": [
              "'h'"
            ]
          },
          "metadata": {},
          "execution_count": 35
        }
      ]
    },
    {
      "cell_type": "code",
      "metadata": {
        "colab": {
          "base_uri": "https://localhost:8080/"
        },
        "id": "2VSAZooA586Q",
        "outputId": "891a5f3f-f9ec-4376-8ef3-cdce74348d3c"
      },
      "source": [
        "# TODO: Fix this string!\n",
        "ford_quote = \"'Whether you think you can, or you think you can't--you're right.'\"\n",
        "print(ford_quote)"
      ],
      "execution_count": null,
      "outputs": [
        {
          "output_type": "stream",
          "name": "stdout",
          "text": [
            "'Whether you think you can, or you think you can't--you're right.'\n"
          ]
        }
      ]
    },
    {
      "cell_type": "code",
      "metadata": {
        "colab": {
          "base_uri": "https://localhost:8080/"
        },
        "id": "UQ-RDEIE6HqX",
        "outputId": "05bc656b-5cf9-4e98-f86e-a3f38150f6aa"
      },
      "source": [
        "username = \"Kinari\"\n",
        "timestamp = \"04:50\"\n",
        "url = \"http://petshop.com/pets/mammals/cats\"\n",
        "\n",
        "# TODO: print a log message using the variables above.\n",
        "# The message should have the same format as this one:\n",
        "# \"Yogesh accessed the site http://petshop.com/pets/reptiles/pythons at 16:20.\"\n",
        "print (username + \" accessed the site \" + url + \" at \" + timestamp)"
      ],
      "execution_count": null,
      "outputs": [
        {
          "output_type": "stream",
          "name": "stdout",
          "text": [
            "Kinari accessed the site http://petshop.com/pets/mammals/cats at 04:50\n"
          ]
        }
      ]
    },
    {
      "cell_type": "code",
      "metadata": {
        "colab": {
          "base_uri": "https://localhost:8080/"
        },
        "id": "DB4dW4hN8U01",
        "outputId": "faf0edac-dbf8-4c96-dee2-308202c0967d"
      },
      "source": [
        "given_name = \"William\"\n",
        "middle_names = \"Bradley\"\n",
        "family_name = \"Pitt\"\n",
        "\n",
        "name_length = len(given_name + \" \" + middle_names + \" \" + family_name)#todo: calculate how long this name is\n",
        "print(name_length)\n",
        "# Now we check to make sure that the name fits within the driving license character limit\n",
        "# Nothing you need to do here\n",
        "driving_license_character_limit = 28\n",
        "print(name_length <= driving_license_character_limit)"
      ],
      "execution_count": null,
      "outputs": [
        {
          "output_type": "stream",
          "name": "stdout",
          "text": [
            "20\n",
            "True\n"
          ]
        }
      ]
    },
    {
      "cell_type": "code",
      "metadata": {
        "colab": {
          "base_uri": "https://localhost:8080/"
        },
        "id": "t4CFJNAj_S_B",
        "outputId": "32fc01a5-396c-41e0-dce1-3daf41087074"
      },
      "source": [
        "mon_sales = \"121\"\n",
        "tues_sales = \"105\"\n",
        "wed_sales = \"110\"\n",
        "thurs_sales = \"98\"\n",
        "fri_sales = \"95\"\n",
        "\n",
        "#TODO: Print a string with this format: This week's total sales: xxx\n",
        "# You will probably need to write some lines of code before the print statement.\n",
        "type(mon_sales) "
      ],
      "execution_count": null,
      "outputs": [
        {
          "output_type": "execute_result",
          "data": {
            "text/plain": [
              "str"
            ]
          },
          "metadata": {},
          "execution_count": 43
        }
      ]
    },
    {
      "cell_type": "code",
      "metadata": {
        "colab": {
          "base_uri": "https://localhost:8080/"
        },
        "id": "YXccQf2_Bbmr",
        "outputId": "2858e1a6-be58-4afb-8b54-727291781a3d"
      },
      "source": [
        "total_sales = int(mon_sales) + int(thurs_sales) + int(wed_sales) + int(thurs_sales) + int(fri_sales)\n",
        "print(total_sales)"
      ],
      "execution_count": null,
      "outputs": [
        {
          "output_type": "stream",
          "name": "stdout",
          "text": [
            "522\n"
          ]
        }
      ]
    },
    {
      "cell_type": "code",
      "metadata": {
        "colab": {
          "base_uri": "https://localhost:8080/"
        },
        "id": "w96CzyfcBrFq",
        "outputId": "0b57228a-1d2a-400c-9061-63cc9722cdb4"
      },
      "source": [
        "print ( \"This week's total sales :\" + str(total_sales))"
      ],
      "execution_count": null,
      "outputs": [
        {
          "output_type": "stream",
          "name": "stdout",
          "text": [
            "This week's total sales :522\n"
          ]
        }
      ]
    },
    {
      "cell_type": "code",
      "metadata": {
        "id": "73gj9SPzB_sD"
      },
      "source": [
        "mon_sales = \"121\"\n",
        "mon_sales = int(mon_sales)"
      ],
      "execution_count": null,
      "outputs": []
    },
    {
      "cell_type": "code",
      "metadata": {
        "colab": {
          "base_uri": "https://localhost:8080/"
        },
        "id": "r_IHOsUICY3x",
        "outputId": "cfb31612-9255-4f49-8198-89edb372fda9"
      },
      "source": [
        "type(mon_sales)"
      ],
      "execution_count": null,
      "outputs": [
        {
          "output_type": "execute_result",
          "data": {
            "text/plain": [
              "int"
            ]
          },
          "metadata": {},
          "execution_count": 50
        }
      ]
    },
    {
      "cell_type": "code",
      "metadata": {
        "colab": {
          "base_uri": "https://localhost:8080/"
        },
        "id": "IwOV4xNLCbAg",
        "outputId": "d857e486-8acf-4b22-e67e-e116e22bea97"
      },
      "source": [
        "\n",
        "# Write two lines of code below, each assigning a value to a variable\n",
        "\n",
        "\n",
        "# Now write a print statement using .format() to print out a sentence and the \n",
        "#   values of both of the variables\n",
        "weapon = 'round'\n",
        "action = 'pierce'\n",
        "print('is your {} {}'.format(weapon, action))"
      ],
      "execution_count": null,
      "outputs": [
        {
          "output_type": "stream",
          "name": "stdout",
          "text": [
            "is your round pierce\n"
          ]
        }
      ]
    },
    {
      "cell_type": "code",
      "metadata": {
        "colab": {
          "base_uri": "https://localhost:8080/"
        },
        "id": "DRGcM_np7xib",
        "outputId": "1aaa7bf7-67a0-4279-d1b2-f7216a413679"
      },
      "source": [
        "verse = \"If you can keep your head when all about you\\n  Are losing theirs and blaming it on you,\\nIf you can trust yourself when all men doubt you,\\n  But make allowance for their doubting too;\\nIf you can wait and not be tired by waiting,\\n  Or being lied about, don’t deal in lies,\\nOr being hated, don’t give way to hating,\\n  And yet don’t look too good, nor talk too wise:\"\n",
        "print(verse)\n",
        "\n",
        "# Use the appropriate functions and methods to answer the questions above\n",
        "# Bonus: practice using .format() to output your answers in descriptive messages!\n",
        "#What is the length of the string variable verse?\n",
        "#What is the index of the first occurrence of the word 'and' in verse?\n",
        "#What is the index of the last occurrence of the word 'you' in verse?\n",
        "#What is the count of occurrences of the word 'you' in the verse?\n",
        "\n",
        "len(verse)\n",
        "\n"
      ],
      "execution_count": null,
      "outputs": [
        {
          "output_type": "stream",
          "name": "stdout",
          "text": [
            "If you can keep your head when all about you\n",
            "  Are losing theirs and blaming it on you,\n",
            "If you can trust yourself when all men doubt you,\n",
            "  But make allowance for their doubting too;\n",
            "If you can wait and not be tired by waiting,\n",
            "  Or being lied about, don’t deal in lies,\n",
            "Or being hated, don’t give way to hating,\n",
            "  And yet don’t look too good, nor talk too wise:\n"
          ]
        },
        {
          "output_type": "execute_result",
          "data": {
            "text/plain": [
              "362"
            ]
          },
          "metadata": {},
          "execution_count": 6
        }
      ]
    },
    {
      "cell_type": "code",
      "metadata": {
        "colab": {
          "base_uri": "https://localhost:8080/"
        },
        "id": "HYZHjHo1_l35",
        "outputId": "9a8b9c36-6153-4074-ee8e-83db8c2d6096"
      },
      "source": [
        "verse.find('and')"
      ],
      "execution_count": null,
      "outputs": [
        {
          "output_type": "execute_result",
          "data": {
            "text/plain": [
              "65"
            ]
          },
          "metadata": {},
          "execution_count": 5
        }
      ]
    },
    {
      "cell_type": "code",
      "metadata": {
        "colab": {
          "base_uri": "https://localhost:8080/"
        },
        "id": "gz62R85j_zEX",
        "outputId": "8da391d4-f9e8-4c76-b8aa-8318808bee8d"
      },
      "source": [
        "verse.rfind('you')"
      ],
      "execution_count": null,
      "outputs": [
        {
          "output_type": "execute_result",
          "data": {
            "text/plain": [
              "186"
            ]
          },
          "metadata": {},
          "execution_count": 8
        }
      ]
    },
    {
      "cell_type": "code",
      "metadata": {
        "id": "S0Blkw2xJdKP"
      },
      "source": [
        "count = verse.count('you')"
      ],
      "execution_count": null,
      "outputs": []
    },
    {
      "cell_type": "code",
      "metadata": {
        "id": "rmSrgHCEJzcW",
        "colab": {
          "base_uri": "https://localhost:8080/"
        },
        "outputId": "8afa6dfa-788b-42c1-af2e-148c126e978b"
      },
      "source": [
        "print(count)"
      ],
      "execution_count": null,
      "outputs": [
        {
          "output_type": "stream",
          "name": "stdout",
          "text": [
            "8\n"
          ]
        }
      ]
    },
    {
      "cell_type": "code",
      "metadata": {
        "id": "QqZokmG7J1yx"
      },
      "source": [
        ""
      ],
      "execution_count": null,
      "outputs": []
    },
    {
      "cell_type": "markdown",
      "metadata": {
        "id": "L4oWGfPkyFQs"
      },
      "source": [
        "# Data Structures in Python"
      ]
    },
    {
      "cell_type": "code",
      "metadata": {
        "colab": {
          "base_uri": "https://localhost:8080/"
        },
        "id": "8ZTu6PQoyPb-",
        "outputId": "fc89a41d-aed4-4d6d-f99e-508d343945ad"
      },
      "source": [
        "month = 8\n",
        "days_in_month = [31,28,31,30,31,30,31,31,30,31,30,31]\n",
        "\n",
        "# use list indexing to determine the number of days in month\n",
        "\n",
        "num_days= days_in_month[month - 1]\n",
        "\n",
        "\n",
        "print(num_days)"
      ],
      "execution_count": null,
      "outputs": [
        {
          "output_type": "stream",
          "name": "stdout",
          "text": [
            "31\n"
          ]
        }
      ]
    },
    {
      "cell_type": "code",
      "metadata": {
        "colab": {
          "base_uri": "https://localhost:8080/"
        },
        "id": "8jtqP6GpyRDA",
        "outputId": "db858c48-a028-4fd1-c4a7-4bac45512d3d"
      },
      "source": [
        "eclipse_dates = ['June 21, 2001', 'December 4, 2002', 'November 23, 2003',\n",
        "                 'March 29, 2006', 'August 1, 2008', 'July 22, 2009',\n",
        "                 'July 11, 2010', 'November 13, 2012', 'March 20, 2015',\n",
        "                 'March 9, 2016']\n",
        "                 \n",
        "                 \n",
        "# TODO: Modify this line so it prints the last three elements of the list\n",
        "print(eclipse_dates[-3:])"
      ],
      "execution_count": null,
      "outputs": [
        {
          "output_type": "stream",
          "name": "stdout",
          "text": [
            "['November 13, 2012', 'March 20, 2015', 'March 9, 2016']\n"
          ]
        }
      ]
    },
    {
      "cell_type": "markdown",
      "metadata": {
        "id": "HXtNWksj9cYN"
      },
      "source": [
        "#LIST"
      ]
    },
    {
      "cell_type": "code",
      "metadata": {
        "colab": {
          "base_uri": "https://localhost:8080/"
        },
        "id": "jCZgOJB2zYEV",
        "outputId": "b6bf2064-d61f-4d68-9377-33e50f166afc"
      },
      "source": [
        "VINIX = ['C', 'MA', 'BA', 'PG', 'CSCO', 'VZ', 'PFE', 'HD', 'INTC', 'T', 'V', 'UNH', 'WFC', 'CVX', 'BAC', 'JNJ', 'GOOGL', 'GOOG', 'BRK.B', 'XOM', 'JPM', 'FB', 'AMZN', 'MSFT', 'AAPL']\n",
        "\n",
        "#Now, printing the tickers becomes slightly easier. And you don't have to remember the names of the strings!\n",
        "print('C' in VINIX)\n",
        "total_stocks=len(VINIX)+1\n",
        "print(total_stocks)"
      ],
      "execution_count": null,
      "outputs": [
        {
          "output_type": "stream",
          "name": "stdout",
          "text": [
            "True\n",
            "26\n"
          ]
        }
      ]
    },
    {
      "cell_type": "code",
      "metadata": {
        "colab": {
          "base_uri": "https://localhost:8080/"
        },
        "id": "EFgvF9vV1GOh",
        "outputId": "67172e62-e2ed-4933-e0c5-6134de29c2e1"
      },
      "source": [
        "scores = ['a','b','f','p','z','l']\n",
        "sorted(scores)"
      ],
      "execution_count": null,
      "outputs": [
        {
          "output_type": "execute_result",
          "data": {
            "text/plain": [
              "['a', 'b', 'f', 'l', 'p', 'z']"
            ]
          },
          "metadata": {},
          "execution_count": 25
        }
      ]
    },
    {
      "cell_type": "code",
      "metadata": {
        "colab": {
          "base_uri": "https://localhost:8080/",
          "height": 35
        },
        "id": "K99pebKj45bo",
        "outputId": "33e68166-71c3-43d5-fe78-27ac48765853"
      },
      "source": [
        "scores[3]"
      ],
      "execution_count": null,
      "outputs": [
        {
          "output_type": "execute_result",
          "data": {
            "application/vnd.google.colaboratory.intrinsic+json": {
              "type": "string"
            },
            "text/plain": [
              "'p'"
            ]
          },
          "metadata": {},
          "execution_count": 27
        }
      ]
    },
    {
      "cell_type": "code",
      "metadata": {
        "id": "tMvZMKZr49M1"
      },
      "source": [
        "scores[3]='z'"
      ],
      "execution_count": null,
      "outputs": []
    },
    {
      "cell_type": "code",
      "metadata": {
        "colab": {
          "base_uri": "https://localhost:8080/"
        },
        "id": "cAPFxoOL5Ele",
        "outputId": "739d2d14-ba83-4f64-e09c-03bdd2fe01f6"
      },
      "source": [
        "print(scores)"
      ],
      "execution_count": null,
      "outputs": [
        {
          "output_type": "stream",
          "name": "stdout",
          "text": [
            "['a', 'b', 'f', 'z', 'z', 'l']\n"
          ]
        }
      ]
    },
    {
      "cell_type": "code",
      "metadata": {
        "colab": {
          "base_uri": "https://localhost:8080/"
        },
        "id": "pD386WnP5HA1",
        "outputId": "8b0657fa-f10f-4137-cd11-edd25ddc20fb"
      },
      "source": [
        "print('scores are' + str(scores) )"
      ],
      "execution_count": null,
      "outputs": [
        {
          "output_type": "stream",
          "name": "stdout",
          "text": [
            "scores are['a', 'b', 'f', 'z', 'z', 'l']\n"
          ]
        }
      ]
    },
    {
      "cell_type": "code",
      "metadata": {
        "colab": {
          "base_uri": "https://localhost:8080/"
        },
        "id": "r3gDaZqi5Mhy",
        "outputId": "ef515724-2f7d-4456-c6d2-878ecb8a5d98"
      },
      "source": [
        "deltadriz= [\"fore\", \"aft\", \"starboard\", \"port\"]\n",
        "new_str = \"\\n\".join(deltadriz)\n",
        "print(new_str)"
      ],
      "execution_count": null,
      "outputs": [
        {
          "output_type": "stream",
          "name": "stdout",
          "text": [
            "fore\n",
            "aft\n",
            "starboard\n",
            "port\n"
          ]
        }
      ]
    },
    {
      "cell_type": "code",
      "metadata": {
        "colab": {
          "base_uri": "https://localhost:8080/"
        },
        "id": "Z7F4chRN51uJ",
        "outputId": "73f7b463-415c-4b05-c282-a10efc01b281"
      },
      "source": [
        "deltadriz= [\"fore\", \"aft\", \"starboard\", \"port\"]\n",
        "new_str = \"--\".join(deltadriz)\n",
        "print(new_str)"
      ],
      "execution_count": null,
      "outputs": [
        {
          "output_type": "stream",
          "name": "stdout",
          "text": [
            "fore--aft--starboard--port\n"
          ]
        }
      ]
    },
    {
      "cell_type": "code",
      "metadata": {
        "colab": {
          "base_uri": "https://localhost:8080/"
        },
        "id": "xzJvIz6t6BgS",
        "outputId": "2ffc4fae-b69b-4c3b-e511-f6f011bafc97"
      },
      "source": [
        "letters = ['a', 'b', 'c', 'd',\"fore\", \"aft\", \"starboard\", \"port\"]\n",
        "letters.append('z')\n",
        "print(letters)"
      ],
      "execution_count": null,
      "outputs": [
        {
          "output_type": "stream",
          "name": "stdout",
          "text": [
            "['a', 'b', 'c', 'd', 'fore', 'aft', 'starboard', 'port', 'z']\n"
          ]
        }
      ]
    },
    {
      "cell_type": "code",
      "metadata": {
        "colab": {
          "base_uri": "https://localhost:8080/"
        },
        "id": "znau_9HP6P3H",
        "outputId": "8ec3a035-1845-4de5-d4f3-2b26e2354741"
      },
      "source": [
        "a = [1, 5, 8]\n",
        "b = [2, 6, 9, 10]\n",
        "c = [100, 200]\n",
        "\n",
        "print(max([len(a), len(b), len(c)]))\n",
        "print(min([len(a), len(b), len(c)]))"
      ],
      "execution_count": null,
      "outputs": [
        {
          "output_type": "stream",
          "name": "stdout",
          "text": [
            "4\n",
            "2\n"
          ]
        }
      ]
    },
    {
      "cell_type": "code",
      "metadata": {
        "colab": {
          "base_uri": "https://localhost:8080/"
        },
        "id": "zpg9-OLk6Y6K",
        "outputId": "a4138b39-1baa-46dd-8161-d05d638d7631"
      },
      "source": [
        "names = [\"Carol\", \"Albert\", \"Ben\", \"Donna\"]\n",
        "names.append(\"Eugenia\")\n",
        "print(sorted(names))\n",
        "jeez=\"-&6%\".join(names)\n",
        "print(jeez)"
      ],
      "execution_count": null,
      "outputs": [
        {
          "output_type": "stream",
          "name": "stdout",
          "text": [
            "['Albert', 'Ben', 'Carol', 'Donna', 'Eugenia']\n",
            "Carol-&6%Albert-&6%Ben-&6%Donna-&6%Eugenia\n"
          ]
        }
      ]
    },
    {
      "cell_type": "code",
      "metadata": {
        "id": "5O1QDUJ57DMw"
      },
      "source": [
        ""
      ],
      "execution_count": null,
      "outputs": []
    },
    {
      "cell_type": "markdown",
      "metadata": {
        "id": "MzI0Cx589s2S"
      },
      "source": [
        "# TUPLES"
      ]
    },
    {
      "cell_type": "markdown",
      "metadata": {
        "id": "znb8zjuW9104"
      },
      "source": [
        "Ordered and Imumutable\n"
      ]
    },
    {
      "cell_type": "code",
      "metadata": {
        "colab": {
          "base_uri": "https://localhost:8080/"
        },
        "id": "bn48kE2e9wsx",
        "outputId": "d2cd5f46-d2be-4947-8336-869dcdbb9bb0"
      },
      "source": [
        "location = (13.4125, 103.866667)\n",
        "print(\"Latitude:\", location[0])\n",
        "print(\"Longitude:\", location[1])\n",
        "latitude, longitude = location[0], location[1]\n"
      ],
      "execution_count": null,
      "outputs": [
        {
          "output_type": "stream",
          "name": "stdout",
          "text": [
            "Latitude: 13.4125\n",
            "Longitude: 103.866667\n"
          ]
        }
      ]
    },
    {
      "cell_type": "code",
      "metadata": {
        "colab": {
          "base_uri": "https://localhost:8080/"
        },
        "id": "QNhyy-QL-JwS",
        "outputId": "30c5eda8-4b31-45da-b4d4-c8a51e1b3b37"
      },
      "source": [
        "dimensions = 0, 1, 2, 3\n",
        "a, b, c, d = dimensions\n",
        "print ('the dimensions are {} x {} x {} x {}'.format(a, b, c, d))"
      ],
      "execution_count": null,
      "outputs": [
        {
          "output_type": "stream",
          "name": "stdout",
          "text": [
            "the dimensions are 0 x 1 x 2 x 3\n"
          ]
        }
      ]
    },
    {
      "cell_type": "code",
      "metadata": {
        "colab": {
          "base_uri": "https://localhost:8080/"
        },
        "id": "Xcal0H33_Qk2",
        "outputId": "9155b4c2-e8ed-48a4-8713-8dd2c222cff5"
      },
      "source": [
        "tuple_a=1,2,3\n",
        "tube_b = (1,2,3)\n",
        "print(tuple_a==tube_b)"
      ],
      "execution_count": null,
      "outputs": [
        {
          "output_type": "stream",
          "name": "stdout",
          "text": [
            "True\n"
          ]
        }
      ]
    },
    {
      "cell_type": "markdown",
      "metadata": {
        "id": "wGWHpKp8pofG"
      },
      "source": [
        "# SET"
      ]
    },
    {
      "cell_type": "code",
      "metadata": {
        "colab": {
          "base_uri": "https://localhost:8080/"
        },
        "id": "8tzXxyt_-f87",
        "outputId": "0293f5c2-609e-4377-fb23-a278741f17c2"
      },
      "source": [
        "a = [1, 2, 2, 3, 3, 3, 4, 4, 4, 4]\n",
        "b = set(a)\n",
        "print(len(a) - len(b))"
      ],
      "execution_count": null,
      "outputs": [
        {
          "output_type": "stream",
          "name": "stdout",
          "text": [
            "6\n"
          ]
        }
      ]
    },
    {
      "cell_type": "code",
      "metadata": {
        "colab": {
          "base_uri": "https://localhost:8080/"
        },
        "id": "7WvTqSGCpwOi",
        "outputId": "c49c4410-72e5-4562-f131-7d76a8e3c460"
      },
      "source": [
        "a = [1, 2, 2, 3, 3, 3, 4, 4, 4, 4]\n",
        "b = set(a)\n",
        "b.add(5)\n",
        "print(b)\n",
        "b.pop()\n",
        "print(b)\n",
        "b.pop()\n",
        "print(b)\n"
      ],
      "execution_count": null,
      "outputs": [
        {
          "output_type": "stream",
          "name": "stdout",
          "text": [
            "{1, 2, 3, 4, 5}\n",
            "{2, 3, 4, 5}\n",
            "{3, 4, 5}\n"
          ]
        }
      ]
    },
    {
      "cell_type": "code",
      "metadata": {
        "id": "zEpN-b4_p2b_"
      },
      "source": [
        ""
      ],
      "execution_count": null,
      "outputs": []
    },
    {
      "cell_type": "markdown",
      "metadata": {
        "id": "xbXZEanftE8T"
      },
      "source": [
        "# DICTIONARY\n"
      ]
    },
    {
      "cell_type": "code",
      "metadata": {
        "colab": {
          "base_uri": "https://localhost:8080/"
        },
        "id": "YNq7ozZ2tIsV",
        "outputId": "593cd3c5-241b-462b-f452-72aefa027d91"
      },
      "source": [
        "# Define a Dictionary, population,\n",
        "# that provides information\n",
        "# on the world's largest cities.\n",
        "# The key is the name of a city\n",
        "# (a string), and the associated\n",
        "# value is its population in\n",
        "# millions of people.\n",
        "\n",
        "#   Key     |   Value\n",
        "# Shanghai  |   17.8\n",
        "# Istanbul  |   13.3\n",
        "# Karachi   |   13.0\n",
        "# Mumbai    |   12.5\n",
        "\n",
        "population = {'Shanghai':17.8,'Instanbul':13.3,'Karachi':13.0,'Mumbai':12.5}\n",
        "print (population)"
      ],
      "execution_count": null,
      "outputs": [
        {
          "output_type": "stream",
          "name": "stdout",
          "text": [
            "{'Shanghai': 17.8, 'Instanbul': 13.3, 'Karachi': 13.0, 'Mumbai': 12.5}\n"
          ]
        }
      ]
    },
    {
      "cell_type": "code",
      "metadata": {
        "colab": {
          "base_uri": "https://localhost:8080/"
        },
        "id": "OHltCfVstoGp",
        "outputId": "bf17c306-dbc0-4b8b-933d-617dfbbdaa57"
      },
      "source": [
        "print(population.get('London'))"
      ],
      "execution_count": null,
      "outputs": [
        {
          "output_type": "stream",
          "name": "stdout",
          "text": [
            "None\n"
          ]
        }
      ]
    },
    {
      "cell_type": "code",
      "metadata": {
        "colab": {
          "base_uri": "https://localhost:8080/",
          "height": 35
        },
        "id": "CWdJWI91uWGS",
        "outputId": "4e237c0c-bf9a-4659-bf90-6d7dacb59721"
      },
      "source": [
        "population.get(\"america\",'you dumb bro, wrong fricking cityy biatch')"
      ],
      "execution_count": null,
      "outputs": [
        {
          "output_type": "execute_result",
          "data": {
            "application/vnd.google.colaboratory.intrinsic+json": {
              "type": "string"
            },
            "text/plain": [
              "'you dumb bro, wrong fricking cityy biatch'"
            ]
          },
          "metadata": {},
          "execution_count": 15
        }
      ]
    },
    {
      "cell_type": "code",
      "metadata": {
        "colab": {
          "base_uri": "https://localhost:8080/"
        },
        "id": "YIJPxrwVuqjC",
        "outputId": "cd7b9f17-d22b-4b74-eba6-8744b2ac9696"
      },
      "source": [
        "animals = {'dogs': [20, 10, 15, 8, 32, 15], 'cats': [3,4,2,8,2,4], 'rabbits': [2, 3, 3], 'fish': [0.3, 0.5, 0.8, 0.3, 1]}\n",
        "print (animals['dogs'][5],animals['cats'])"
      ],
      "execution_count": null,
      "outputs": [
        {
          "output_type": "stream",
          "name": "stdout",
          "text": [
            "15 [3, 4, 2, 8, 2, 4]\n"
          ]
        }
      ]
    },
    {
      "cell_type": "code",
      "metadata": {
        "colab": {
          "base_uri": "https://localhost:8080/"
        },
        "id": "AXinPqkSvvvQ",
        "outputId": "97c26580-8f71-42fa-cf1c-73f08fff18d0"
      },
      "source": [
        "type(animals)"
      ],
      "execution_count": null,
      "outputs": [
        {
          "output_type": "execute_result",
          "data": {
            "text/plain": [
              "dict"
            ]
          },
          "metadata": {},
          "execution_count": 23
        }
      ]
    },
    {
      "cell_type": "code",
      "metadata": {
        "colab": {
          "base_uri": "https://localhost:8080/"
        },
        "id": "LnP_COVjwPBe",
        "outputId": "c2e4721a-84bf-4412-e70c-d59d1df4f0cb"
      },
      "source": [
        "type(animals['dogs'])"
      ],
      "execution_count": null,
      "outputs": [
        {
          "output_type": "execute_result",
          "data": {
            "text/plain": [
              "list"
            ]
          },
          "metadata": {},
          "execution_count": 25
        }
      ]
    },
    {
      "cell_type": "code",
      "metadata": {
        "colab": {
          "base_uri": "https://localhost:8080/"
        },
        "id": "6cUJ8p3EwSHh",
        "outputId": "b5c9a6bc-a260-4c9a-c849-0aa62a349744"
      },
      "source": [
        "VINIX = {'C': [0.74, -6.51], 'MA': [0.78, 34.77], 'BA': [0.79, 17.01], 'PG': [0.85, -8.81], 'CSCO': [0.88, 18.56], 'VZ': [0.9, 2.16], 'PFE': [0.92, 13.96], 'HD': [0.97, 3.2], 'INTC': [1.0, 2.61], 'T': [1.01, -15.19], 'V': [1.02, 24.0], 'UNH': [1.02, 19.32], 'WFC': [1.05, -3.59], 'CVX': [1.05, -5.77], 'BAC': [1.15, 4.27], 'JNJ': [1.41, -5.58], 'GOOGL': [1.46, 17.84], 'GOOG': [1.47, 17.03], 'BRK.B': [1.5, 4.54], 'XOM': [1.52, -6.87], 'JPM': [1.53, 7.66], 'FB': [2.02, 0.91], 'AMZN': [2.96, 62.75], 'MSFT': [3.28, 26.61], 'AAPL': [3.94, 26.01]}\n",
        "print(VINIX.get('PG','Naah'))"
      ],
      "execution_count": null,
      "outputs": [
        {
          "output_type": "stream",
          "name": "stdout",
          "text": [
            "[0.85, -8.81]\n"
          ]
        }
      ]
    },
    {
      "cell_type": "code",
      "metadata": {
        "colab": {
          "base_uri": "https://localhost:8080/",
          "height": 214
        },
        "id": "VSlAGYXYx1EP",
        "outputId": "c87659a7-3ddb-49e3-fdce-a2c9f048ddbc"
      },
      "source": [
        "# invalid dictionary - this should break\n",
        "room_numbers = {\n",
        "    ['Freddie', 'Jen']: 403,\n",
        "    ['Ned', 'Keith']: 391,\n",
        "    ['Kristin', 'Jazzmyne']: 411,\n",
        "    ['Eugene', 'Zach']: 395\n",
        "}"
      ],
      "execution_count": null,
      "outputs": [
        {
          "output_type": "error",
          "ename": "TypeError",
          "evalue": "ignored",
          "traceback": [
            "\u001b[0;31m---------------------------------------------------------------------------\u001b[0m",
            "\u001b[0;31mTypeError\u001b[0m                                 Traceback (most recent call last)",
            "\u001b[0;32m<ipython-input-34-6eccaac2d264>\u001b[0m in \u001b[0;36m<module>\u001b[0;34m()\u001b[0m\n\u001b[1;32m      4\u001b[0m     \u001b[0;34m[\u001b[0m\u001b[0;34m'Ned'\u001b[0m\u001b[0;34m,\u001b[0m \u001b[0;34m'Keith'\u001b[0m\u001b[0;34m]\u001b[0m\u001b[0;34m:\u001b[0m \u001b[0;36m391\u001b[0m\u001b[0;34m,\u001b[0m\u001b[0;34m\u001b[0m\u001b[0;34m\u001b[0m\u001b[0m\n\u001b[1;32m      5\u001b[0m     \u001b[0;34m[\u001b[0m\u001b[0;34m'Kristin'\u001b[0m\u001b[0;34m,\u001b[0m \u001b[0;34m'Jazzmyne'\u001b[0m\u001b[0;34m]\u001b[0m\u001b[0;34m:\u001b[0m \u001b[0;36m411\u001b[0m\u001b[0;34m,\u001b[0m\u001b[0;34m\u001b[0m\u001b[0;34m\u001b[0m\u001b[0m\n\u001b[0;32m----> 6\u001b[0;31m     \u001b[0;34m[\u001b[0m\u001b[0;34m'Eugene'\u001b[0m\u001b[0;34m,\u001b[0m \u001b[0;34m'Zach'\u001b[0m\u001b[0;34m]\u001b[0m\u001b[0;34m:\u001b[0m \u001b[0;36m395\u001b[0m\u001b[0;34m\u001b[0m\u001b[0;34m\u001b[0m\u001b[0m\n\u001b[0m\u001b[1;32m      7\u001b[0m }\n",
            "\u001b[0;31mTypeError\u001b[0m: unhashable type: 'list'"
          ]
        }
      ]
    },
    {
      "cell_type": "code",
      "metadata": {
        "colab": {
          "base_uri": "https://localhost:8080/"
        },
        "id": "A3Vl7q3r0QD7",
        "outputId": "dc388823-ae37-405e-9529-8f528e3be927"
      },
      "source": [
        "elements = {\"hydrogen\": {\"number\": 1,\n",
        "                         \"weight\": 1.00794,\n",
        "                         \"symbol\": \"H\"},\n",
        "              \"helium\": {\"number\": 2,\n",
        "                         \"weight\": 4.002602,\n",
        "                         \"symbol\": \"He\"}}\n",
        "print (elements)"
      ],
      "execution_count": null,
      "outputs": [
        {
          "output_type": "stream",
          "name": "stdout",
          "text": [
            "{'hydrogen': {'number': 1, 'weight': 1.00794, 'symbol': 'H'}, 'helium': {'number': 2, 'weight': 4.002602, 'symbol': 'He'}}\n"
          ]
        }
      ]
    },
    {
      "cell_type": "code",
      "metadata": {
        "colab": {
          "base_uri": "https://localhost:8080/"
        },
        "id": "wegewP1W0zqG",
        "outputId": "8260ab4b-16c9-4598-bcf7-598c2e58a0d1"
      },
      "source": [
        "elements['helium']['weight']"
      ],
      "execution_count": null,
      "outputs": [
        {
          "output_type": "execute_result",
          "data": {
            "text/plain": [
              "4.002602"
            ]
          },
          "metadata": {},
          "execution_count": 36
        }
      ]
    },
    {
      "cell_type": "code",
      "metadata": {
        "id": "239yGsbM1EJr"
      },
      "source": [
        "oxygen = {'oxygen':{'number':8,'weight':8.04,'symbol':'O'}}"
      ],
      "execution_count": null,
      "outputs": []
    },
    {
      "cell_type": "code",
      "metadata": {
        "id": "Pj5WVqDg1W9H"
      },
      "source": [
        "elements['Oxygen']=oxygen"
      ],
      "execution_count": null,
      "outputs": []
    },
    {
      "cell_type": "code",
      "metadata": {
        "colab": {
          "base_uri": "https://localhost:8080/"
        },
        "id": "qjOtMEaG1feV",
        "outputId": "1674da11-2543-4563-d9d9-ead639b545e3"
      },
      "source": [
        "print(elements)"
      ],
      "execution_count": null,
      "outputs": [
        {
          "output_type": "stream",
          "name": "stdout",
          "text": [
            "{'hydrogen': {'number': 1, 'weight': 1.00794, 'symbol': 'H'}, 'helium': {'number': 2, 'weight': 4.002602, 'symbol': 'He'}, 'Oxygen': {'oxygen': {'number': 8, 'weight': 8.04, 'symbol': 'O'}}}\n"
          ]
        }
      ]
    },
    {
      "cell_type": "code",
      "metadata": {
        "colab": {
          "base_uri": "https://localhost:8080/"
        },
        "id": "jYZ-HNRZ1hiG",
        "outputId": "02152334-2b80-4b14-94af-4f17f0921aa6"
      },
      "source": [
        "verse = \"if you can keep your head when all about you are losing theirs and blaming it on you   if you can trust yourself when all men doubt you     but make allowance for their doubting too   if you can wait and not be tired by waiting      or being lied about  don’t deal in lies   or being hated  don’t give way to hating      and yet don’t look too good  nor talk too wise\"\n",
        "print(verse, '\\n')\n",
        "\n",
        "# split verse into list of words\n",
        "verse_list = verse.split()\n",
        "print(verse_list, '\\n')\n",
        "\n",
        "\n",
        "\n",
        "# print the number of unique words\n",
        "num_unique = set(verse_list)\n",
        "print(num_unique, '\\n')\n",
        "\n"
      ],
      "execution_count": null,
      "outputs": [
        {
          "output_type": "stream",
          "name": "stdout",
          "text": [
            "if you can keep your head when all about you are losing theirs and blaming it on you   if you can trust yourself when all men doubt you     but make allowance for their doubting too   if you can wait and not be tired by waiting      or being lied about  don’t deal in lies   or being hated  don’t give way to hating      and yet don’t look too good  nor talk too wise \n",
            "\n",
            "['if', 'you', 'can', 'keep', 'your', 'head', 'when', 'all', 'about', 'you', 'are', 'losing', 'theirs', 'and', 'blaming', 'it', 'on', 'you', 'if', 'you', 'can', 'trust', 'yourself', 'when', 'all', 'men', 'doubt', 'you', 'but', 'make', 'allowance', 'for', 'their', 'doubting', 'too', 'if', 'you', 'can', 'wait', 'and', 'not', 'be', 'tired', 'by', 'waiting', 'or', 'being', 'lied', 'about', 'don’t', 'deal', 'in', 'lies', 'or', 'being', 'hated', 'don’t', 'give', 'way', 'to', 'hating', 'and', 'yet', 'don’t', 'look', 'too', 'good', 'nor', 'talk', 'too', 'wise'] \n",
            "\n",
            "{'nor', 'about', 'wait', 'men', 'head', 'be', 'it', 'but', 'doubting', 'look', 'talk', 'by', 'lies', 'or', 'you', 'blaming', 'in', 'doubt', 'hated', 'when', 'theirs', 'on', 'your', 'losing', 'hating', 'being', 'tired', 'and', 'yourself', 'way', 'give', 'don’t', 'can', 'keep', 'all', 'for', 'too', 'are', 'good', 'their', 'deal', 'to', 'waiting', 'not', 'lied', 'wise', 'allowance', 'yet', 'if', 'trust', 'make'} \n",
            "\n"
          ]
        }
      ]
    },
    {
      "cell_type": "code",
      "metadata": {
        "id": "ricS_7e_FKAS"
      },
      "source": [
        ""
      ],
      "execution_count": null,
      "outputs": []
    },
    {
      "cell_type": "markdown",
      "metadata": {
        "id": "W8TpfOGkbgXP"
      },
      "source": [
        "# CONTROL FLOW\n"
      ]
    },
    {
      "cell_type": "code",
      "metadata": {
        "colab": {
          "base_uri": "https://localhost:8080/"
        },
        "id": "xn76FMddbjsw",
        "outputId": "b8728add-2bf2-4fbe-9a98-ed2faaf2627c"
      },
      "source": [
        "season = 'Baarish'\n",
        "if season == 'spring':\n",
        "    print('plant the garden!')\n",
        "elif season == 'summer':\n",
        "    print('water the garden!')\n",
        "elif season == 'fall':\n",
        "    print('harvest the garden!')\n",
        "elif season == 'winter':\n",
        "    print('stay indoors!')\n",
        "else:\n",
        "    print('unrecognized season')"
      ],
      "execution_count": null,
      "outputs": [
        {
          "output_type": "stream",
          "name": "stdout",
          "text": [
            "unrecognized season\n"
          ]
        }
      ]
    },
    {
      "cell_type": "code",
      "metadata": {
        "colab": {
          "base_uri": "https://localhost:8080/"
        },
        "id": "6UeRAGoB9E0p",
        "outputId": "ba7a7d90-f045-4abb-d73b-7f9ac83343e5"
      },
      "source": [
        "#First Example - try changing the value of phone_balance\n",
        "phone_balance = 10\n",
        "bank_balance = 50\n",
        "\n",
        "if phone_balance < 10:\n",
        "    phone_balance += 10\n",
        "    bank_balance -= 10\n",
        "\n",
        "print(phone_balance)\n",
        "print(bank_balance)\n",
        "\n",
        "#Second Example - try changing the value of number\n",
        "\n",
        "number = 142\n",
        "if number % 2 == 0:\n",
        "    print(\"Number \" + str(number) + \" is even.\")\n",
        "else:\n",
        "    print(\"Number \" + str(number) + \" is odd.\")\n",
        "\n",
        "#Third Example - try to change the value of age\n",
        "age = 63\n",
        "\n",
        "# Here are the age limits for bus fares\n",
        "free_up_to_age = 4\n",
        "child_up_to_age = 18\n",
        "senior_from_age = 65\n",
        "\n",
        "# These lines determine the bus fare prices\n",
        "concession_ticket = 1.25\n",
        "adult_ticket = 2.50\n",
        "\n",
        "# Here is the logic for bus fare prices\n",
        "if age <= free_up_to_age:\n",
        "    ticket_price = 0\n",
        "elif age <= child_up_to_age:\n",
        "    ticket_price = concession_ticket\n",
        "elif age >= senior_from_age:\n",
        "    ticket_price = concession_ticket\n",
        "else:\n",
        "    ticket_price = adult_ticket\n",
        "\n",
        "message = \"Somebody who is {} years old will pay ${} to ride the bus.\".format(age, ticket_price)\n",
        "print(message)"
      ],
      "execution_count": null,
      "outputs": [
        {
          "output_type": "stream",
          "name": "stdout",
          "text": [
            "10\n",
            "50\n",
            "Number 142 is even.\n",
            "Somebody who is 63 years old will pay $2.5 to ride the bus.\n"
          ]
        }
      ]
    },
    {
      "cell_type": "code",
      "metadata": {
        "colab": {
          "base_uri": "https://localhost:8080/"
        },
        "id": "kvi7yUsH9oMj",
        "outputId": "87755e0b-2710-4f50-f601-aba002bc546e"
      },
      "source": [
        "points = 174  # use this input to make your submission\n",
        "\n",
        "# write your if statement here\n",
        "if points <51:\n",
        "    print( \"your prize is {}\".format('wooden rabbit'))\n",
        "elif points <151:\n",
        "    print( \"your prize is {}\".format('no prize'))\n",
        "elif points < 181 :\n",
        "    print( \"your prize is {}\".format('wafer thin mint'))\n",
        "else:\n",
        "    print( \"your prize is {}\".format('penguin'))\n",
        "    \n"
      ],
      "execution_count": null,
      "outputs": [
        {
          "output_type": "stream",
          "name": "stdout",
          "text": [
            "your prize is wafer thin mint\n"
          ]
        }
      ]
    },
    {
      "cell_type": "markdown",
      "metadata": {
        "id": "sE7szDNMx1nd"
      },
      "source": [
        "FOR LOOP"
      ]
    },
    {
      "cell_type": "code",
      "metadata": {
        "id": "AGgica4GBGHh",
        "colab": {
          "base_uri": "https://localhost:8080/"
        },
        "outputId": "3c628c79-3bfa-427e-9020-86d6786c4d9c"
      },
      "source": [
        "sentence = [\"the\", \"quick\", \"brown\", \"fox\", \"jumped\", \"over\", \"the\", \"lazy\", \"dog\"]\n",
        "\n",
        "# Write a for loop to print out each word in the sentence list, one word per line\n",
        "for word in sentence:\n",
        "    print( word)"
      ],
      "execution_count": null,
      "outputs": [
        {
          "output_type": "stream",
          "name": "stdout",
          "text": [
            "the\n",
            "quick\n",
            "brown\n",
            "fox\n",
            "jumped\n",
            "over\n",
            "the\n",
            "lazy\n",
            "dog\n"
          ]
        }
      ]
    },
    {
      "cell_type": "code",
      "metadata": {
        "colab": {
          "base_uri": "https://localhost:8080/"
        },
        "id": "eqYIEJA6yAAQ",
        "outputId": "724ac78d-b094-4472-f4fa-5c481df7372e"
      },
      "source": [
        "names = [\"Joey Tribbiani\", \"Monica Geller\", \"Chandler Bing\", \"Phoebe Buffay\"]\n",
        "usernames = []\n",
        "\n",
        "# write your for loop here\n",
        "\n",
        "for name in names:\n",
        "    tags = name\n",
        "    usernames = tags.replace(' ', '_')\n",
        "    print(usernames)"
      ],
      "execution_count": null,
      "outputs": [
        {
          "output_type": "stream",
          "name": "stdout",
          "text": [
            "Joey_Tribbiani\n",
            "Monica_Geller\n",
            "Chandler_Bing\n",
            "Phoebe_Buffay\n"
          ]
        }
      ]
    },
    {
      "cell_type": "code",
      "metadata": {
        "colab": {
          "base_uri": "https://localhost:8080/"
        },
        "id": "1-VBd9DPzmXj",
        "outputId": "8768350c-faa4-4992-b4a1-1623c4b44c71"
      },
      "source": [
        "names = [\"Joey Tribbiani\", \"Monica Geller\", \"Chandler Bing\", \"Phoebe Buffay\"]\n",
        "usernames = []\n",
        "\n",
        "# write your for loop here\n",
        "\n",
        "for name in names:\n",
        "    usernames = name.lower().replace(' ', '_')\n",
        "    print(usernames)"
      ],
      "execution_count": null,
      "outputs": [
        {
          "output_type": "stream",
          "name": "stdout",
          "text": [
            "joey_tribbiani\n",
            "monica_geller\n",
            "chandler_bing\n",
            "phoebe_buffay\n"
          ]
        }
      ]
    },
    {
      "cell_type": "code",
      "metadata": {
        "colab": {
          "base_uri": "https://localhost:8080/"
        },
        "id": "msLMA2oJz5vx",
        "outputId": "cca322b6-11d0-4af3-a0ad-58498feab7c3"
      },
      "source": [
        "book_title =  ['great', 'expectations','the', 'adventures', 'of', 'sherlock','holmes','the','great','gasby','hamlet','adventures','of','huckleberry','fin']\n",
        "word_counter = {}\n",
        "for word in book_title:\n",
        "    word_counter[word] = word_counter.get(word, 0)+1\n",
        "print (word_counter)"
      ],
      "execution_count": null,
      "outputs": [
        {
          "output_type": "stream",
          "name": "stdout",
          "text": [
            "{'great': 2, 'expectations': 1, 'the': 2, 'adventures': 2, 'of': 2, 'sherlock': 1, 'holmes': 1, 'gasby': 1, 'hamlet': 1, 'huckleberry': 1, 'fin': 1}\n"
          ]
        }
      ]
    },
    {
      "cell_type": "markdown",
      "metadata": {
        "id": "0q2sWD4eFRxn"
      },
      "source": [
        "DICTIONARIES"
      ]
    },
    {
      "cell_type": "code",
      "metadata": {
        "colab": {
          "base_uri": "https://localhost:8080/"
        },
        "id": "tGyanUkd_Xzk",
        "outputId": "9826a680-8589-4e7e-b352-d833edc7ffd1"
      },
      "source": [
        "cast = {\n",
        "           \"Jerry Seinfeld\": \"Jerry Seinfeld\",\n",
        "           \"Julia Louis-Dreyfus\": \"Elaine Benes\",\n",
        "           \"Jason Alexander\": \"George Costanza\",\n",
        "           \"Michael Richards\": \"Cosmo Kramer\"\n",
        "       }\n",
        "for key in cast:\n",
        "    print (key)"
      ],
      "execution_count": null,
      "outputs": [
        {
          "output_type": "stream",
          "name": "stdout",
          "text": [
            "Jerry Seinfeld\n",
            "Julia Louis-Dreyfus\n",
            "Jason Alexander\n",
            "Michael Richards\n"
          ]
        }
      ]
    },
    {
      "cell_type": "code",
      "metadata": {
        "colab": {
          "base_uri": "https://localhost:8080/"
        },
        "id": "Tq4VN3RoFpuP",
        "outputId": "4d708824-c899-4957-da26-7ef18c86b20a"
      },
      "source": [
        "for key, value in cast.items():\n",
        "    print(\"Actor: {}    Role: {}\".format(key, value))"
      ],
      "execution_count": null,
      "outputs": [
        {
          "output_type": "stream",
          "name": "stdout",
          "text": [
            "Actor: Jerry Seinfeld    Role: Jerry Seinfeld\n",
            "Actor: Julia Louis-Dreyfus    Role: Elaine Benes\n",
            "Actor: Jason Alexander    Role: George Costanza\n",
            "Actor: Michael Richards    Role: Cosmo Kramer\n"
          ]
        }
      ]
    },
    {
      "cell_type": "code",
      "metadata": {
        "colab": {
          "base_uri": "https://localhost:8080/"
        },
        "id": "T9Gb-_GjGB2b",
        "outputId": "ca0f24bf-50bc-4c10-e6cb-a998d86427d6"
      },
      "source": [
        "# You would like to count the number of fruits in your basket. \n",
        "# In order to do this, you have the following dictionary and list of\n",
        "# fruits.  Use the dictionary and list to count the total number\n",
        "# of fruits, but you do not want to count the other items in your basket.\n",
        "\n",
        "result = 0\n",
        "basket_items = {'apples': 4, 'oranges': 19, 'kites': 3, 'sandwiches': 8}\n",
        "fruits = ['apples', 'oranges', 'pears', 'peaches', 'grapes', 'bananas']\n",
        "\n",
        "#Iterate through the dictionary\n",
        "for object, count in basket_items.items():\n",
        "    if object in fruits:\n",
        "      result+=count\n",
        "\n",
        "\n",
        "print( 'there are {} fruits in the basket'.format(result))\n",
        "#if the key is in the list of fruits, add the value (number of fruits) to result\n",
        "\n",
        "\n",
        "print(result)"
      ],
      "execution_count": null,
      "outputs": [
        {
          "output_type": "stream",
          "name": "stdout",
          "text": [
            "there are 23 fruits in the basket\n",
            "23\n"
          ]
        }
      ]
    },
    {
      "cell_type": "code",
      "metadata": {
        "id": "cs2mg2bSIdpH"
      },
      "source": [
        "card_deck = [4, 11, 8, 5, 13, 2, 8, 10]\n",
        "hand = []\n",
        "\n",
        "# adds the last element of the card_deck list to the hand list\n",
        "# until the values in hand add up to 17 or more\n",
        "while sum(hand)  < 17:\n",
        "    hand.append(card_deck.pop())"
      ],
      "execution_count": null,
      "outputs": []
    },
    {
      "cell_type": "code",
      "metadata": {
        "colab": {
          "base_uri": "https://localhost:8080/"
        },
        "id": "TFRkyQhEJQud",
        "outputId": "2521bd35-898d-4e6b-b1d8-b6fd0c71e3cb"
      },
      "source": [
        "# number to find the factorial of\n",
        "number = 6   \n",
        "\n",
        "# start with our product equal to one\n",
        "product = 1\n",
        "\n",
        "# write your for loop here\n",
        "while number<=1:\n",
        "    product = product * number\n",
        "    number = number-+ 1\n",
        "\n",
        "\n",
        "# print the factorial of number\n",
        "print(product)"
      ],
      "execution_count": null,
      "outputs": [
        {
          "output_type": "stream",
          "name": "stdout",
          "text": [
            "1\n"
          ]
        }
      ]
    },
    {
      "cell_type": "code",
      "metadata": {
        "colab": {
          "base_uri": "https://localhost:8080/",
          "height": 316
        },
        "id": "eWjBRRBcJyZr",
        "outputId": "c297757f-6e38-45ba-a518-c1c6a663456a"
      },
      "source": [
        "egg_count = 0\n",
        "\n",
        "def buy_eggs():\n",
        "    egg_count += 12 # purchase a dozen eggs\n",
        "\n",
        "buy_eggs()"
      ],
      "execution_count": null,
      "outputs": [
        {
          "output_type": "error",
          "ename": "UnboundLocalError",
          "evalue": "ignored",
          "traceback": [
            "\u001b[0;31m---------------------------------------------------------------------------\u001b[0m",
            "\u001b[0;31mUnboundLocalError\u001b[0m                         Traceback (most recent call last)",
            "\u001b[0;32m<ipython-input-17-32dca0f4d031>\u001b[0m in \u001b[0;36m<module>\u001b[0;34m()\u001b[0m\n\u001b[1;32m      4\u001b[0m     \u001b[0megg_count\u001b[0m \u001b[0;34m+=\u001b[0m \u001b[0;36m12\u001b[0m \u001b[0;31m# purchase a dozen eggs\u001b[0m\u001b[0;34m\u001b[0m\u001b[0;34m\u001b[0m\u001b[0m\n\u001b[1;32m      5\u001b[0m \u001b[0;34m\u001b[0m\u001b[0m\n\u001b[0;32m----> 6\u001b[0;31m \u001b[0mbuy_eggs\u001b[0m\u001b[0;34m(\u001b[0m\u001b[0;34m)\u001b[0m\u001b[0;34m\u001b[0m\u001b[0;34m\u001b[0m\u001b[0m\n\u001b[0m",
            "\u001b[0;32m<ipython-input-17-32dca0f4d031>\u001b[0m in \u001b[0;36mbuy_eggs\u001b[0;34m()\u001b[0m\n\u001b[1;32m      2\u001b[0m \u001b[0;34m\u001b[0m\u001b[0m\n\u001b[1;32m      3\u001b[0m \u001b[0;32mdef\u001b[0m \u001b[0mbuy_eggs\u001b[0m\u001b[0;34m(\u001b[0m\u001b[0;34m)\u001b[0m\u001b[0;34m:\u001b[0m\u001b[0;34m\u001b[0m\u001b[0;34m\u001b[0m\u001b[0m\n\u001b[0;32m----> 4\u001b[0;31m     \u001b[0megg_count\u001b[0m \u001b[0;34m+=\u001b[0m \u001b[0;36m12\u001b[0m \u001b[0;31m# purchase a dozen eggs\u001b[0m\u001b[0;34m\u001b[0m\u001b[0;34m\u001b[0m\u001b[0m\n\u001b[0m\u001b[1;32m      5\u001b[0m \u001b[0;34m\u001b[0m\u001b[0m\n\u001b[1;32m      6\u001b[0m \u001b[0mbuy_eggs\u001b[0m\u001b[0;34m(\u001b[0m\u001b[0;34m)\u001b[0m\u001b[0;34m\u001b[0m\u001b[0;34m\u001b[0m\u001b[0m\n",
            "\u001b[0;31mUnboundLocalError\u001b[0m: local variable 'egg_count' referenced before assignment"
          ]
        }
      ]
    },
    {
      "cell_type": "code",
      "metadata": {
        "id": "ilVwzsCeWDY6",
        "colab": {
          "base_uri": "https://localhost:8080/"
        },
        "outputId": "1e99abd9-41f8-4e51-cbbf-7d0788f04ae4"
      },
      "source": [
        "print(list(range(4)))"
      ],
      "execution_count": 10,
      "outputs": [
        {
          "output_type": "stream",
          "name": "stdout",
          "text": [
            "[0, 1, 2, 3]\n"
          ]
        }
      ]
    },
    {
      "cell_type": "code",
      "metadata": {
        "colab": {
          "base_uri": "https://localhost:8080/"
        },
        "id": "QUD6PWL6XOID",
        "outputId": "3b08ceb4-480d-40fa-b18b-0a05ac97f431"
      },
      "source": [
        "print(list(range(2,6)))"
      ],
      "execution_count": 11,
      "outputs": [
        {
          "output_type": "stream",
          "name": "stdout",
          "text": [
            "[2, 3, 4, 5]\n"
          ]
        }
      ]
    },
    {
      "cell_type": "code",
      "metadata": {
        "colab": {
          "base_uri": "https://localhost:8080/"
        },
        "id": "S58z2nHRXsFL",
        "outputId": "70306169-86c4-412a-cce1-1c92d8b7693a"
      },
      "source": [
        "print(list(range(2,12,3)))"
      ],
      "execution_count": 14,
      "outputs": [
        {
          "output_type": "stream",
          "name": "stdout",
          "text": [
            "[2, 5, 8, 11]\n"
          ]
        }
      ]
    },
    {
      "cell_type": "code",
      "metadata": {
        "colab": {
          "base_uri": "https://localhost:8080/"
        },
        "id": "gfeomoD9XvsI",
        "outputId": "6aeec04d-0439-47e9-ec44-fa0213826acd"
      },
      "source": [
        "for number in range(4):\n",
        "  print(number)"
      ],
      "execution_count": 15,
      "outputs": [
        {
          "output_type": "stream",
          "name": "stdout",
          "text": [
            "0\n",
            "1\n",
            "2\n",
            "3\n"
          ]
        }
      ]
    },
    {
      "cell_type": "code",
      "metadata": {
        "colab": {
          "base_uri": "https://localhost:8080/"
        },
        "id": "qzRrfMIRX-1j",
        "outputId": "b412c420-03ad-4978-9aaa-e49b153091bc"
      },
      "source": [
        "cities = ['new york city', 'mountain view', 'chicago', 'los angeles']\n",
        "for city in cities:\n",
        "    print(city)\n",
        "print(\"Done!\")"
      ],
      "execution_count": 16,
      "outputs": [
        {
          "output_type": "stream",
          "name": "stdout",
          "text": [
            "new york city\n",
            "mountain view\n",
            "chicago\n",
            "los angeles\n",
            "Done!\n"
          ]
        }
      ]
    },
    {
      "cell_type": "code",
      "metadata": {
        "colab": {
          "base_uri": "https://localhost:8080/"
        },
        "id": "WJG1dBABYFf8",
        "outputId": "7dedc42f-4932-4720-ff63-042e180243dd"
      },
      "source": [
        "cities = ['new york city', 'mountain view', 'chicago', 'los angeles']\n",
        "for index in range(len(cities)):\n",
        "    cities[index]= cities[index].title()\n",
        "    print(cities)"
      ],
      "execution_count": 19,
      "outputs": [
        {
          "output_type": "stream",
          "name": "stdout",
          "text": [
            "['New York City', 'mountain view', 'chicago', 'los angeles']\n",
            "['New York City', 'Mountain View', 'chicago', 'los angeles']\n",
            "['New York City', 'Mountain View', 'Chicago', 'los angeles']\n",
            "['New York City', 'Mountain View', 'Chicago', 'Los Angeles']\n"
          ]
        }
      ]
    },
    {
      "cell_type": "code",
      "metadata": {
        "colab": {
          "base_uri": "https://localhost:8080/"
        },
        "id": "cSmNbbr3YjE-",
        "outputId": "50a65493-b870-4d30-cd19-5195f147b282"
      },
      "source": [
        "for city in cities:\n",
        "    city = city.title()\n",
        "    print (city)\n",
        "print('ho gaya'.title())"
      ],
      "execution_count": 22,
      "outputs": [
        {
          "output_type": "stream",
          "name": "stdout",
          "text": [
            "New York City\n",
            "Mountain View\n",
            "Chicago\n",
            "Los Angeles\n",
            "Ho Gaya\n"
          ]
        }
      ]
    },
    {
      "cell_type": "code",
      "metadata": {
        "colab": {
          "base_uri": "https://localhost:8080/"
        },
        "id": "R7KtlJvUaWHF",
        "outputId": "393ee85c-12b3-419e-e473-17332219df93"
      },
      "source": [
        "sentence = [\"the\", \"quick\", \"brown\", \"fox\", \"jumped\", \"over\", \"the\", \"lazy\", \"dog\"]\n",
        "\n",
        "# Write a for loop to print out each word in the sentence list, one word per line\n",
        "for word in sentence:\n",
        "  print(word)"
      ],
      "execution_count": 23,
      "outputs": [
        {
          "output_type": "stream",
          "name": "stdout",
          "text": [
            "the\n",
            "quick\n",
            "brown\n",
            "fox\n",
            "jumped\n",
            "over\n",
            "the\n",
            "lazy\n",
            "dog\n"
          ]
        }
      ]
    },
    {
      "cell_type": "code",
      "metadata": {
        "colab": {
          "base_uri": "https://localhost:8080/"
        },
        "id": "JMR7M9eiayLi",
        "outputId": "e4dc2431-e32e-4659-d821-1b81944a7e76"
      },
      "source": [
        "print(list(range(5,31,5)))"
      ],
      "execution_count": 27,
      "outputs": [
        {
          "output_type": "stream",
          "name": "stdout",
          "text": [
            "[5, 10, 15, 20, 25, 30]\n"
          ]
        }
      ]
    },
    {
      "cell_type": "code",
      "metadata": {
        "colab": {
          "base_uri": "https://localhost:8080/"
        },
        "id": "ubTEZL3Da-rK",
        "outputId": "998c4878-af2a-431b-a651-766010912c72"
      },
      "source": [
        "for i in range(1,32):\n",
        "  if i%5 == 0:\n",
        "    print(i)\n"
      ],
      "execution_count": 28,
      "outputs": [
        {
          "output_type": "stream",
          "name": "stdout",
          "text": [
            "5\n",
            "10\n",
            "15\n",
            "20\n",
            "25\n",
            "30\n"
          ]
        }
      ]
    },
    {
      "cell_type": "code",
      "metadata": {
        "colab": {
          "base_uri": "https://localhost:8080/"
        },
        "id": "xxQCdpRIbe79",
        "outputId": "839b408b-dccf-4be9-bc24-87253e9bba63"
      },
      "source": [
        "for i in range(5, 36, 5):\n",
        "  print (i)"
      ],
      "execution_count": 32,
      "outputs": [
        {
          "output_type": "stream",
          "name": "stdout",
          "text": [
            "5\n",
            "10\n",
            "15\n",
            "20\n",
            "25\n",
            "30\n",
            "35\n"
          ]
        }
      ]
    },
    {
      "cell_type": "code",
      "metadata": {
        "colab": {
          "base_uri": "https://localhost:8080/"
        },
        "id": "quEvdy41fIdT",
        "outputId": "89c10b06-fd6a-44e6-8a28-888e59b1ac94"
      },
      "source": [
        "names = [\"Joey Tribbiani\", \"Monica Geller\", \"Chandler Bing\", \"Phoebe Buffay\"]\n",
        "usernames = []\n",
        "\n",
        "# write your for loop here\n",
        "for name in names:\n",
        "    name = name.replace(' ', '_')\n",
        "  #usernames.append(username)\n",
        "\n",
        "print(names)"
      ],
      "execution_count": 39,
      "outputs": [
        {
          "output_type": "stream",
          "name": "stdout",
          "text": [
            "['Joey Tribbiani', 'Monica Geller', 'Chandler Bing', 'Phoebe Buffay']\n"
          ]
        }
      ]
    },
    {
      "cell_type": "code",
      "metadata": {
        "colab": {
          "base_uri": "https://localhost:8080/"
        },
        "id": "bdUYUR7ffoih",
        "outputId": "6640f9ea-a977-46e9-e2f2-a239d9385b42"
      },
      "source": [
        "names = [\"Joey Tribbiani\", \"Monica Geller\", \"Chandler Bing\", \"Phoebe Buffay\"]\n",
        "\n",
        "for name in names:\n",
        "    name = name.lower().replace(\" \", \"_\")\n",
        "\n",
        "print(names)"
      ],
      "execution_count": 36,
      "outputs": [
        {
          "output_type": "stream",
          "name": "stdout",
          "text": [
            "['Joey Tribbiani', 'Monica Geller', 'Chandler Bing', 'Phoebe Buffay']\n"
          ]
        }
      ]
    },
    {
      "cell_type": "code",
      "metadata": {
        "colab": {
          "base_uri": "https://localhost:8080/"
        },
        "id": "H5P1AA4_guIh",
        "outputId": "18be8a03-bfc4-41b7-c650-999f31014949"
      },
      "source": [
        "print(range(len(names)))"
      ],
      "execution_count": 40,
      "outputs": [
        {
          "output_type": "stream",
          "name": "stdout",
          "text": [
            "range(0, 4)\n"
          ]
        }
      ]
    },
    {
      "cell_type": "code",
      "metadata": {
        "colab": {
          "base_uri": "https://localhost:8080/"
        },
        "id": "WRClsQv3iPIg",
        "outputId": "996cf587-a4ef-461e-d445-e12ab9227a9e"
      },
      "source": [
        "colors = ['Red', 'Blue', 'Green', 'Purple']\n",
        "lower_colors = [ ]\n",
        "\n",
        "for color in colors:\n",
        "    #finish this part\n",
        "    #color=color.lower()\n",
        "    #print(color)\n",
        "    #return(colors)\n",
        "    #print (colors)\n",
        "    lower_colors.append(color.lower())\n",
        "print(lower_colors)"
      ],
      "execution_count": 51,
      "outputs": [
        {
          "output_type": "stream",
          "name": "stdout",
          "text": [
            "['red', 'blue', 'green', 'purple']\n"
          ]
        }
      ]
    },
    {
      "cell_type": "code",
      "metadata": {
        "colab": {
          "base_uri": "https://localhost:8080/"
        },
        "id": "xRHkH07riqHE",
        "outputId": "53a76f46-a313-4bd9-9173-3c5ba31ec43d"
      },
      "source": [
        "cast = {\n",
        "           \"Jerry Seinfeld\": \"Jerry Seinfeld\",\n",
        "           \"Julia Louis-Dreyfus\": \"Elaine Benes\",\n",
        "           \"Jason Alexander\": \"George Costanza\",\n",
        "           \"Michael Richards\": \"Cosmo Kramer\"\n",
        "       }\n",
        "for key,value in cast.items():\n",
        "  #print (key, value)\n",
        "  print ( \"actor : {} and roles : {}\".format(key, value))"
      ],
      "execution_count": 58,
      "outputs": [
        {
          "output_type": "stream",
          "name": "stdout",
          "text": [
            "actor : Jerry Seinfeld and roles : Jerry Seinfeld\n",
            "actor : Julia Louis-Dreyfus and roles : Elaine Benes\n",
            "actor : Jason Alexander and roles : George Costanza\n",
            "actor : Michael Richards and roles : Cosmo Kramer\n"
          ]
        }
      ]
    },
    {
      "cell_type": "code",
      "metadata": {
        "colab": {
          "base_uri": "https://localhost:8080/"
        },
        "id": "OaA0zPPFl4gg",
        "outputId": "5deabed3-d415-46ea-d98c-e668a6b46d59"
      },
      "source": [
        "print( \"interating through keys\")\n",
        "for key in cast:\n",
        "  print(key)\n",
        "\n",
        "print( 'iterating through keys and role')\n",
        "for key, value in cast.items():\n",
        "    print(key , value) "
      ],
      "execution_count": 61,
      "outputs": [
        {
          "output_type": "stream",
          "name": "stdout",
          "text": [
            "interating through keys\n",
            "Jerry Seinfeld\n",
            "Julia Louis-Dreyfus\n",
            "Jason Alexander\n",
            "Michael Richards\n",
            "iterating through keys and role\n",
            "Jerry Seinfeld Jerry Seinfeld\n",
            "Julia Louis-Dreyfus Elaine Benes\n",
            "Jason Alexander George Costanza\n",
            "Michael Richards Cosmo Kramer\n"
          ]
        }
      ]
    },
    {
      "cell_type": "code",
      "metadata": {
        "colab": {
          "base_uri": "https://localhost:8080/"
        },
        "id": "YWYXWzLCpl_j",
        "outputId": "88ce6f52-df99-43de-98cc-0ba84c4c95a6"
      },
      "source": [
        "# You would like to count the number of fruits in your basket. \n",
        "# In order to do this, you have the following dictionary and list of\n",
        "# fruits.  Use the dictionary and list to count the total number\n",
        "# of fruits, but you do not want to count the other items in your basket.\n",
        "\n",
        "result = 0\n",
        "basket_items = {'apples': 4, 'oranges': 19, 'kites': 3, 'sandwiches': 8}\n",
        "fruits = ['apples', 'oranges', 'pears', 'peaches', 'grapes', 'bananas']\n",
        "\n",
        "#Iterate through the dictionary\n",
        "\n",
        "#if the key is in the list of fruits, add the value (number of fruits) to result\n",
        "for key,value in basket_items.items():\n",
        "  if key in fruits:\n",
        "    result += value\n",
        "print(result)\n"
      ],
      "execution_count": 69,
      "outputs": [
        {
          "output_type": "stream",
          "name": "stdout",
          "text": [
            "23\n"
          ]
        }
      ]
    },
    {
      "cell_type": "code",
      "metadata": {
        "colab": {
          "base_uri": "https://localhost:8080/"
        },
        "id": "d23OFI_KtXXD",
        "outputId": "8592b586-b7c2-47bb-efcb-86069c2d633c"
      },
      "source": [
        "#Example 1\n",
        "\n",
        "result = 0\n",
        "basket_items = {'pears': 5, 'grapes': 19, 'kites': 3, 'sandwiches': 8, 'bananas': 4}\n",
        "fruits = ['apples', 'oranges', 'pears', 'peaches', 'grapes', 'bananas']\n",
        "\n",
        "# Your previous solution here\n",
        "for key,value in basket_items.items():\n",
        "  if key in fruits:\n",
        "    result += value\n",
        "print(result)\n",
        "\n",
        "#Example 2\n",
        "\n",
        "result = 0\n",
        "basket_items = {'peaches': 5, 'lettuce': 2, 'kites': 3, 'sandwiches': 8, 'pears': 4}\n",
        "fruits = ['apples', 'oranges', 'pears', 'peaches', 'grapes', 'bananas']\n",
        "\n",
        "# Your previous solution here\n",
        "for key,value in basket_items.items():\n",
        "  if key in fruits:\n",
        "    result += value\n",
        "print(result)\n",
        "\n",
        "\n",
        "\n",
        "#Example 3\n",
        "\n",
        "result = 0\n",
        "basket_items = {'lettuce': 2, 'kites': 3, 'sandwiches': 8, 'pears': 4, 'bears': 10}\n",
        "fruits = ['apples', 'oranges', 'pears', 'peaches', 'grapes', 'bananas']\n",
        "\n",
        "# Your previous solution here\n",
        "for key,value in basket_items.items():\n",
        "  if key in fruits:\n",
        "    result += value\n",
        "print(result)"
      ],
      "execution_count": 72,
      "outputs": [
        {
          "output_type": "stream",
          "name": "stdout",
          "text": [
            "28\n",
            "9\n",
            "4\n"
          ]
        }
      ]
    },
    {
      "cell_type": "code",
      "metadata": {
        "colab": {
          "base_uri": "https://localhost:8080/"
        },
        "id": "YnM4aeshuI6e",
        "outputId": "d29e49cd-94ca-47fd-d8c0-c28fc23d1b71"
      },
      "source": [
        "# You would like to count the number of fruits in your basket. \n",
        "# In order to do this, you have the following dictionary and list of\n",
        "# fruits.  Use the dictionary and list to count the total number\n",
        "# of fruits and not_fruits.\n",
        "\n",
        "fruit_count, not_fruit_count = 0, 0\n",
        "basket_items = {'apples': 4, 'oranges': 19, 'kites': 3, 'sandwiches': 8}\n",
        "fruits = ['apples', 'oranges', 'pears', 'peaches', 'grapes', 'bananas']\n",
        "\n",
        "#Iterate through the dictionary\n",
        "for fruit, count in basket_items.items():\n",
        "#if the key is in the list of fruits, add to fruit_count.\n",
        "    if fruit in fruits:\n",
        "      fruit_count+=count\n",
        "#if the key is not in the list, then add to the not_fruit_count\n",
        "    else :\n",
        "      not_fruit_count+=count\n",
        "\n",
        "print(fruit_count, not_fruit_count)"
      ],
      "execution_count": 74,
      "outputs": [
        {
          "output_type": "stream",
          "name": "stdout",
          "text": [
            "23 11\n"
          ]
        }
      ]
    },
    {
      "cell_type": "code",
      "metadata": {
        "colab": {
          "base_uri": "https://localhost:8080/"
        },
        "id": "qEt0K5lru-Sh",
        "outputId": "e44b2f1c-f474-4457-c622-e2a6b2b23443"
      },
      "source": [
        "# number to find the factorial of\n",
        "number = 6   \n",
        "\n",
        "# start with our product equal to one\n",
        "product = 1\n",
        "\n",
        "# track the current number being multiplied\n",
        "current = 1\n",
        "\n",
        "# write your while loop here\n",
        "while number>0:\n",
        "    # multiply the product so far by the current number\n",
        "    product*=number\n",
        "    number-=1\n",
        "    \n",
        "    # increment current with each iteration until it reaches number\n",
        "\n",
        "\n",
        "\n",
        "# print the factorial of number\n",
        "print(product)"
      ],
      "execution_count": 75,
      "outputs": [
        {
          "output_type": "stream",
          "name": "stdout",
          "text": [
            "720\n"
          ]
        }
      ]
    },
    {
      "cell_type": "code",
      "metadata": {
        "colab": {
          "base_uri": "https://localhost:8080/"
        },
        "id": "shPPEiha03HV",
        "outputId": "ca7924d0-df56-4cfd-c2cb-1250c84efdd5"
      },
      "source": [
        "# number to find the factorial of\n",
        "number = 6   \n",
        "\n",
        "# start with our product equal to one\n",
        "product = 1\n",
        "\n",
        "# write your for loop here\n",
        "for number in range(2, number+1):\n",
        "  product*=number\n",
        "  \n",
        "\n",
        "\n",
        "# print the factorial of number\n",
        "print(product)"
      ],
      "execution_count": 83,
      "outputs": [
        {
          "output_type": "stream",
          "name": "stdout",
          "text": [
            "720\n"
          ]
        }
      ]
    },
    {
      "cell_type": "code",
      "metadata": {
        "colab": {
          "base_uri": "https://localhost:8080/"
        },
        "id": "HgT3ZK1E1OkX",
        "outputId": "431ef824-e86d-4739-f285-3148b670ccb6"
      },
      "source": [
        "# write a while loop that uses break_num as the ongoing number to \n",
        "#   check against end_num\n",
        "\n",
        "start_num = 0 #provide some start number\n",
        "end_num = 101 #provide some end number that you stop when you hit\n",
        "count_by = 5 #provide some number to count by \n",
        "break_num = start_num\n",
        "\n",
        "while break_num < end_num:\n",
        "    break_num += count_by\n",
        "\n",
        "print(break_num)"
      ],
      "execution_count": 88,
      "outputs": [
        {
          "output_type": "stream",
          "name": "stdout",
          "text": [
            "105\n"
          ]
        }
      ]
    },
    {
      "cell_type": "code",
      "metadata": {
        "colab": {
          "base_uri": "https://localhost:8080/"
        },
        "id": "9dtppmeuB0WZ",
        "outputId": "150996b8-9c0f-41cd-c591-5b3b7df81ee0"
      },
      "source": [
        "limit = 48\n",
        "\n",
        "num = 0\n",
        "while (num+1)**2 < limit:\n",
        "    num += 1\n",
        "nearest_square = num**2\n",
        "\n",
        "print(nearest_square)"
      ],
      "execution_count": 89,
      "outputs": [
        {
          "output_type": "stream",
          "name": "stdout",
          "text": [
            "36\n"
          ]
        }
      ]
    },
    {
      "cell_type": "code",
      "metadata": {
        "colab": {
          "base_uri": "https://localhost:8080/"
        },
        "id": "R8Bx43F1XvGq",
        "outputId": "a3f1b446-1d28-4593-cb0e-15809468eac4"
      },
      "source": [
        "num_list = [422, 136, 524, 85, 96, 719, 85, 92, 10, 17, 312, 542, 87, 23, 86, 191, 116, 35, 173, 45, 149, 59, 84, 69, 113, 166]\n",
        "sum=0\n",
        "count=0\n",
        "i=0\n",
        "len_num_list = len(num_list)\n",
        "\n",
        "while (count<5) and (i<len_num_list):\n",
        "  if num_list[i]%2!=0:\n",
        "    sum+=num_list[i]\n",
        "    count+=1\n",
        "  i+=1\n",
        "print (sum)\n",
        "print (count)\n",
        "#for i in num_list:\n",
        "#  if i%2==1:\n",
        "#    while count<5:\n",
        "#      count+=1\n",
        "#      sum=i+sum\n",
        "#      print(count)\n",
        "#      print(sum)\n"
      ],
      "execution_count": 97,
      "outputs": [
        {
          "output_type": "stream",
          "name": "stdout",
          "text": [
            "993\n",
            "5\n"
          ]
        }
      ]
    },
    {
      "cell_type": "code",
      "metadata": {
        "colab": {
          "base_uri": "https://localhost:8080/"
        },
        "id": "04MbYZmUZFuG",
        "outputId": "6193ee3d-cc8b-4cff-ea1d-829707e59ef9"
      },
      "source": [
        "manifest = [(\"bananas\", 15), (\"mattresses\", 24), (\"dog kennels\", 42), (\"machine\", 120), (\"cheeses\", 5)]\n",
        "\n",
        "# the code breaks the loop when weight exceeds or reaches the limit\n",
        "print(\"METHOD 1\")\n",
        "weight = 0\n",
        "items = []\n",
        "for cargo_name, cargo_weight in manifest:\n",
        "    print(\"current weight: {}\".format(weight))\n",
        "    if weight >= 100:\n",
        "        print(\"  breaking loop now!\")\n",
        "        break\n",
        "    else:\n",
        "        print(\"  adding {} ({})\".format(cargo_name, cargo_weight))\n",
        "        items.append(cargo_name)\n",
        "        weight += cargo_weight\n",
        "\n",
        "print(\"\\nFinal Weight: {}\".format(weight))\n",
        "print(\"Final Items: {}\".format(items))\n",
        "\n",
        "# skips an iteration when adding an item would exceed the limit\n",
        "# breaks the loop if weight is exactly the value of the limit\n",
        "print(\"\\nMETHOD 2\")\n",
        "weight = 0\n",
        "items = []\n",
        "for cargo_name, cargo_weight in manifest:\n",
        "    print(\"current weight: {}\".format(weight))\n",
        "    if weight >= 100:\n",
        "        print(\"  breaking from the loop now!\")\n",
        "        break\n",
        "    elif weight + cargo_weight > 100:\n",
        "        print(\"  skipping {} ({})\".format(cargo_name, cargo_weight))\n",
        "        continue\n",
        "    else:\n",
        "        print(\"  adding {} ({})\".format(cargo_name, cargo_weight))\n",
        "        items.append(cargo_name)\n",
        "        weight += cargo_weight\n",
        "\n",
        "print(\"\\nFinal Weight: {}\".format(weight))\n",
        "print(\"Final Items: {}\".format(items))\n",
        "\n",
        "\n",
        "\n"
      ],
      "execution_count": 98,
      "outputs": [
        {
          "output_type": "stream",
          "name": "stdout",
          "text": [
            "METHOD 1\n",
            "current weight: 0\n",
            "  adding bananas (15)\n",
            "current weight: 15\n",
            "  adding mattresses (24)\n",
            "current weight: 39\n",
            "  adding dog kennels (42)\n",
            "current weight: 81\n",
            "  adding machine (120)\n",
            "current weight: 201\n",
            "  breaking loop now!\n",
            "\n",
            "Final Weight: 201\n",
            "Final Items: ['bananas', 'mattresses', 'dog kennels', 'machine']\n",
            "\n",
            "METHOD 2\n",
            "current weight: 0\n",
            "  adding bananas (15)\n",
            "current weight: 15\n",
            "  adding mattresses (24)\n",
            "current weight: 39\n",
            "  adding dog kennels (42)\n",
            "current weight: 81\n",
            "  skipping machine (120)\n",
            "current weight: 81\n",
            "  adding cheeses (5)\n",
            "\n",
            "Final Weight: 86\n",
            "Final Items: ['bananas', 'mattresses', 'dog kennels', 'cheeses']\n"
          ]
        }
      ]
    },
    {
      "cell_type": "code",
      "metadata": {
        "colab": {
          "base_uri": "https://localhost:8080/"
        },
        "id": "5rcKxCRPh69U",
        "outputId": "1987c7b8-1c04-4e18-94d1-0c416e506588"
      },
      "source": [
        "headlines = [\"Local Bear Eaten by Man\",\n",
        "             \"Legislature Announces New Laws\",\n",
        "             \"Peasant Discovers Violence Inherent in System\",\n",
        "             \"Cat Rescues Fireman Stuck in Tree\",\n",
        "             \"Brave Knight Runs Away\",\n",
        "             \"Papperbok Review: Totally Triffic\"]\n",
        "\n",
        "news_ticker = \"\"\n",
        "for headline in headlines:\n",
        "    news_ticker += headline + \" \"\n",
        "    if len(news_ticker) >= 140:\n",
        "        news_ticker = news_ticker[:140]\n",
        "        break\n",
        "\n",
        "print(news_ticker)"
      ],
      "execution_count": 99,
      "outputs": [
        {
          "output_type": "stream",
          "name": "stdout",
          "text": [
            "Local Bear Eaten by Man Legislature Announces New Laws Peasant Discovers Violence Inherent in System Cat Rescues Fireman Stuck in Tree Brave\n"
          ]
        }
      ]
    },
    {
      "cell_type": "code",
      "metadata": {
        "colab": {
          "base_uri": "https://localhost:8080/"
        },
        "id": "rxcuzS5ukCFj",
        "outputId": "60807214-32d0-4868-fb3c-2c0286020112"
      },
      "source": [
        "## Your code should check if each number in the list is a prime number\n",
        "check_prime = [26, 39, 51, 53, 57, 79, 85]\n",
        "\n",
        "## write your code here\n",
        "## HINT: You can use the modulo operator to find a factor\n",
        "\n",
        "for num in check_prime:\n",
        "  for i in range(2,num):\n",
        "    if num%i==0:\n",
        "      print ('{} is not prime, because {} is a factor of {}'.format(num, i, num))\n",
        "      break\n",
        "    if i == num -1:\n",
        "      print( \"{} is a prime number\".format(num))"
      ],
      "execution_count": 105,
      "outputs": [
        {
          "output_type": "stream",
          "name": "stdout",
          "text": [
            "26 is not prime, because 2 is a factor of 26\n",
            "39 is not prime, because 3 is a factor of 39\n",
            "51 is not prime, because 3 is a factor of 51\n",
            "53 is a prime number\n",
            "57 is not prime, because 3 is a factor of 57\n",
            "79 is a prime number\n",
            "85 is not prime, because 5 is a factor of 85\n"
          ]
        }
      ]
    },
    {
      "cell_type": "code",
      "metadata": {
        "id": "tUMF5Zg5milD"
      },
      "source": [
        ""
      ],
      "execution_count": null,
      "outputs": []
    }
  ]
}