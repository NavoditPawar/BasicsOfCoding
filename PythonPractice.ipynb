{
  "nbformat": 4,
  "nbformat_minor": 0,
  "metadata": {
    "colab": {
      "name": "Untitled1.ipynb",
      "provenance": [],
      "toc_visible": true,
      "authorship_tag": "ABX9TyNyn3iM89grvweyZFncvxRS",
      "include_colab_link": true
    },
    "kernelspec": {
      "name": "python3",
      "display_name": "Python 3"
    },
    "language_info": {
      "name": "python"
    }
  },
  "cells": [
    {
      "cell_type": "markdown",
      "metadata": {
        "id": "view-in-github",
        "colab_type": "text"
      },
      "source": [
        "<a href=\"https://colab.research.google.com/github/NavoditPawar/BasicsOfCoding/blob/master/PythonPractice.ipynb\" target=\"_parent\"><img src=\"https://colab.research.google.com/assets/colab-badge.svg\" alt=\"Open In Colab\"/></a>"
      ]
    },
    {
      "cell_type": "code",
      "metadata": {
        "colab": {
          "base_uri": "https://localhost:8080/"
        },
        "id": "egy1ALSlsv58",
        "outputId": "fdaffcc4-16d9-4be3-fa97-3deb9d0c05e8"
      },
      "source": [
        "reservior_vol= 4.445e8\n",
        "print(reservior_vol)\n",
        "rainfall = 5e6\n",
        "print(rainfall)"
      ],
      "execution_count": null,
      "outputs": [
        {
          "output_type": "stream",
          "name": "stdout",
          "text": [
            "444500000.0\n",
            "5000000.0\n"
          ]
        }
      ]
    },
    {
      "cell_type": "code",
      "metadata": {
        "colab": {
          "base_uri": "https://localhost:8080/"
        },
        "id": "vkJ0nIqPs4F9",
        "outputId": "6ea98632-a709-46c1-d48d-0898984f536a"
      },
      "source": [
        "rainfall *= 0.9\n",
        "print(rainfall)"
      ],
      "execution_count": null,
      "outputs": [
        {
          "output_type": "stream",
          "name": "stdout",
          "text": [
            "4050000.0\n"
          ]
        }
      ]
    },
    {
      "cell_type": "code",
      "metadata": {
        "id": "azhsgSMotH1y"
      },
      "source": [
        "reservior_vol+=rainfall"
      ],
      "execution_count": null,
      "outputs": []
    },
    {
      "cell_type": "code",
      "metadata": {
        "colab": {
          "base_uri": "https://localhost:8080/"
        },
        "id": "De0yQNFntVBW",
        "outputId": "50e2c460-665e-4fd5-d78c-0941ed31a13e"
      },
      "source": [
        "print(reservior_vol)"
      ],
      "execution_count": null,
      "outputs": [
        {
          "output_type": "stream",
          "name": "stdout",
          "text": [
            "448550000.0\n"
          ]
        }
      ]
    },
    {
      "cell_type": "code",
      "metadata": {
        "colab": {
          "base_uri": "https://localhost:8080/"
        },
        "id": "LIOTGu8utYAO",
        "outputId": "d3f0d847-e5bc-4e4c-d5c4-5416dce71c6b"
      },
      "source": [
        "reservior_vol*=1.05\n",
        "print(reservior_vol)"
      ],
      "execution_count": null,
      "outputs": [
        {
          "output_type": "stream",
          "name": "stdout",
          "text": [
            "470977500.0\n"
          ]
        }
      ]
    },
    {
      "cell_type": "code",
      "metadata": {
        "colab": {
          "base_uri": "https://localhost:8080/"
        },
        "id": "wGNFeZyGter1",
        "outputId": "087f62a2-3068-43c5-cf08-d87d912d3c32"
      },
      "source": [
        "reservior_vol*=0.95\n",
        "print(reservior_vol)"
      ],
      "execution_count": null,
      "outputs": [
        {
          "output_type": "stream",
          "name": "stdout",
          "text": [
            "447428625.0\n"
          ]
        }
      ]
    },
    {
      "cell_type": "code",
      "metadata": {
        "colab": {
          "base_uri": "https://localhost:8080/"
        },
        "id": "pwRA6V79tpMr",
        "outputId": "44b60e50-a132-4437-8684-70b952f02897"
      },
      "source": [
        "reservior_vol-=2.5e5\n",
        "print(reservior_vol)"
      ],
      "execution_count": null,
      "outputs": [
        {
          "output_type": "stream",
          "name": "stdout",
          "text": [
            "447178625.0\n"
          ]
        }
      ]
    },
    {
      "cell_type": "code",
      "metadata": {
        "id": "LjVJvZhotyIg"
      },
      "source": [
        "\n",
        "carrots = 24\n",
        "rabbit = 8\n",
        "crb_pr_rab = carrots / rabbit"
      ],
      "execution_count": null,
      "outputs": []
    },
    {
      "cell_type": "code",
      "metadata": {
        "colab": {
          "base_uri": "https://localhost:8080/"
        },
        "id": "Pg8jn7Qmvk5-",
        "outputId": "eb7096cd-90b3-4156-d3cb-ae1dab965c71"
      },
      "source": [
        "print(crb_pr_rab)"
      ],
      "execution_count": null,
      "outputs": [
        {
          "output_type": "stream",
          "name": "stdout",
          "text": [
            "3.0\n"
          ]
        }
      ]
    },
    {
      "cell_type": "code",
      "metadata": {
        "colab": {
          "base_uri": "https://localhost:8080/"
        },
        "id": "9axHg7JMvnka",
        "outputId": "619ca392-8b56-4008-f061-33d8dc0fad25"
      },
      "source": [
        "rabbit=12\n",
        "print(crb_pr_rab)"
      ],
      "execution_count": null,
      "outputs": [
        {
          "output_type": "stream",
          "name": "stdout",
          "text": [
            "3.0\n"
          ]
        }
      ]
    },
    {
      "cell_type": "code",
      "metadata": {
        "colab": {
          "base_uri": "https://localhost:8080/"
        },
        "id": "dJ-OQG4fvuMy",
        "outputId": "9fc25bd0-f9f4-4fec-cb88-b4b7f3bfb0dc"
      },
      "source": [
        "treats = 19/0.01\n",
        "print (treats)"
      ],
      "execution_count": null,
      "outputs": [
        {
          "output_type": "stream",
          "name": "stdout",
          "text": [
            "1900.0\n"
          ]
        }
      ]
    },
    {
      "cell_type": "code",
      "metadata": {
        "colab": {
          "base_uri": "https://localhost:8080/"
        },
        "id": "M99a5zlMz8Mm",
        "outputId": "192b4e68-3801-488c-e58e-89703606b085"
      },
      "source": [
        "sf_population, sf_area = 864816, 231.89\n",
        "rio_population, rio_area = 6453682, 486.5\n",
        "\n",
        "san_francisco_pop_density = sf_population/sf_area\n",
        "rio_de_janeiro_pop_density = rio_population/rio_area\n",
        "\n",
        "# Write code that prints True if San Francisco is denser than Rio, and False otherwise\n",
        "density = san_francisco_pop_density > rio_de_janeiro_pop_density\n",
        "print(density)"
      ],
      "execution_count": null,
      "outputs": [
        {
          "output_type": "stream",
          "name": "stdout",
          "text": [
            "False\n"
          ]
        }
      ]
    },
    {
      "cell_type": "code",
      "metadata": {
        "colab": {
          "base_uri": "https://localhost:8080/"
        },
        "id": "oTLoEIhY107i",
        "outputId": "b762a6c4-95f6-4dbb-e220-19ba34ce6e8c"
      },
      "source": [
        "statement = '\" i think you\\'re an exceptional persona\"'\n",
        "print(statement)"
      ],
      "execution_count": null,
      "outputs": [
        {
          "output_type": "stream",
          "name": "stdout",
          "text": [
            "\" i think you're an exceptional persona\"\n"
          ]
        }
      ]
    },
    {
      "cell_type": "code",
      "metadata": {
        "colab": {
          "base_uri": "https://localhost:8080/"
        },
        "id": "b_XTta194fO-",
        "outputId": "1e4877a8-9e88-4ff7-b96c-c2ddbb076cb6"
      },
      "source": [
        "first = 'howdy brotha'\n",
        "second = 'you goooooood?'\n",
        "print ((first +  \" \"  + second)*5 )"
      ],
      "execution_count": null,
      "outputs": [
        {
          "output_type": "stream",
          "name": "stdout",
          "text": [
            "howdy brotha you goooooood?howdy brotha you goooooood?howdy brotha you goooooood?howdy brotha you goooooood?howdy brotha you goooooood?\n"
          ]
        }
      ]
    },
    {
      "cell_type": "code",
      "metadata": {
        "colab": {
          "base_uri": "https://localhost:8080/"
        },
        "id": "AKiqOLXX5L5K",
        "outputId": "5cd91be2-53bf-48ca-d8a2-706ce14523d7"
      },
      "source": [
        "print (len(first))"
      ],
      "execution_count": null,
      "outputs": [
        {
          "output_type": "stream",
          "name": "stdout",
          "text": [
            "12\n"
          ]
        }
      ]
    },
    {
      "cell_type": "code",
      "metadata": {
        "colab": {
          "base_uri": "https://localhost:8080/"
        },
        "id": "iOjekZBO5nmm",
        "outputId": "2fe8e89a-e5b0-4d37-eb15-de4915eab112"
      },
      "source": [
        "print(type(first))"
      ],
      "execution_count": null,
      "outputs": [
        {
          "output_type": "stream",
          "name": "stdout",
          "text": [
            "<class 'str'>\n"
          ]
        }
      ]
    },
    {
      "cell_type": "code",
      "metadata": {
        "colab": {
          "base_uri": "https://localhost:8080/",
          "height": 35
        },
        "id": "t9DfCs-Q5wqn",
        "outputId": "cdd47d0c-247f-43f4-8513-c8d974fc06b5"
      },
      "source": [
        "first[0]"
      ],
      "execution_count": null,
      "outputs": [
        {
          "output_type": "execute_result",
          "data": {
            "application/vnd.google.colaboratory.intrinsic+json": {
              "type": "string"
            },
            "text/plain": [
              "'h'"
            ]
          },
          "metadata": {},
          "execution_count": 35
        }
      ]
    },
    {
      "cell_type": "code",
      "metadata": {
        "colab": {
          "base_uri": "https://localhost:8080/"
        },
        "id": "2VSAZooA586Q",
        "outputId": "891a5f3f-f9ec-4376-8ef3-cdce74348d3c"
      },
      "source": [
        "# TODO: Fix this string!\n",
        "ford_quote = \"'Whether you think you can, or you think you can't--you're right.'\"\n",
        "print(ford_quote)"
      ],
      "execution_count": null,
      "outputs": [
        {
          "output_type": "stream",
          "name": "stdout",
          "text": [
            "'Whether you think you can, or you think you can't--you're right.'\n"
          ]
        }
      ]
    },
    {
      "cell_type": "code",
      "metadata": {
        "colab": {
          "base_uri": "https://localhost:8080/"
        },
        "id": "UQ-RDEIE6HqX",
        "outputId": "05bc656b-5cf9-4e98-f86e-a3f38150f6aa"
      },
      "source": [
        "username = \"Kinari\"\n",
        "timestamp = \"04:50\"\n",
        "url = \"http://petshop.com/pets/mammals/cats\"\n",
        "\n",
        "# TODO: print a log message using the variables above.\n",
        "# The message should have the same format as this one:\n",
        "# \"Yogesh accessed the site http://petshop.com/pets/reptiles/pythons at 16:20.\"\n",
        "print (username + \" accessed the site \" + url + \" at \" + timestamp)"
      ],
      "execution_count": null,
      "outputs": [
        {
          "output_type": "stream",
          "name": "stdout",
          "text": [
            "Kinari accessed the site http://petshop.com/pets/mammals/cats at 04:50\n"
          ]
        }
      ]
    },
    {
      "cell_type": "code",
      "metadata": {
        "colab": {
          "base_uri": "https://localhost:8080/"
        },
        "id": "DB4dW4hN8U01",
        "outputId": "faf0edac-dbf8-4c96-dee2-308202c0967d"
      },
      "source": [
        "given_name = \"William\"\n",
        "middle_names = \"Bradley\"\n",
        "family_name = \"Pitt\"\n",
        "\n",
        "name_length = len(given_name + \" \" + middle_names + \" \" + family_name)#todo: calculate how long this name is\n",
        "print(name_length)\n",
        "# Now we check to make sure that the name fits within the driving license character limit\n",
        "# Nothing you need to do here\n",
        "driving_license_character_limit = 28\n",
        "print(name_length <= driving_license_character_limit)"
      ],
      "execution_count": null,
      "outputs": [
        {
          "output_type": "stream",
          "name": "stdout",
          "text": [
            "20\n",
            "True\n"
          ]
        }
      ]
    },
    {
      "cell_type": "code",
      "metadata": {
        "colab": {
          "base_uri": "https://localhost:8080/"
        },
        "id": "t4CFJNAj_S_B",
        "outputId": "32fc01a5-396c-41e0-dce1-3daf41087074"
      },
      "source": [
        "mon_sales = \"121\"\n",
        "tues_sales = \"105\"\n",
        "wed_sales = \"110\"\n",
        "thurs_sales = \"98\"\n",
        "fri_sales = \"95\"\n",
        "\n",
        "#TODO: Print a string with this format: This week's total sales: xxx\n",
        "# You will probably need to write some lines of code before the print statement.\n",
        "type(mon_sales) "
      ],
      "execution_count": null,
      "outputs": [
        {
          "output_type": "execute_result",
          "data": {
            "text/plain": [
              "str"
            ]
          },
          "metadata": {},
          "execution_count": 43
        }
      ]
    },
    {
      "cell_type": "code",
      "metadata": {
        "colab": {
          "base_uri": "https://localhost:8080/"
        },
        "id": "YXccQf2_Bbmr",
        "outputId": "2858e1a6-be58-4afb-8b54-727291781a3d"
      },
      "source": [
        "total_sales = int(mon_sales) + int(thurs_sales) + int(wed_sales) + int(thurs_sales) + int(fri_sales)\n",
        "print(total_sales)"
      ],
      "execution_count": null,
      "outputs": [
        {
          "output_type": "stream",
          "name": "stdout",
          "text": [
            "522\n"
          ]
        }
      ]
    },
    {
      "cell_type": "code",
      "metadata": {
        "colab": {
          "base_uri": "https://localhost:8080/"
        },
        "id": "w96CzyfcBrFq",
        "outputId": "0b57228a-1d2a-400c-9061-63cc9722cdb4"
      },
      "source": [
        "print ( \"This week's total sales :\" + str(total_sales))"
      ],
      "execution_count": null,
      "outputs": [
        {
          "output_type": "stream",
          "name": "stdout",
          "text": [
            "This week's total sales :522\n"
          ]
        }
      ]
    },
    {
      "cell_type": "code",
      "metadata": {
        "id": "73gj9SPzB_sD"
      },
      "source": [
        "mon_sales = \"121\"\n",
        "mon_sales = int(mon_sales)"
      ],
      "execution_count": null,
      "outputs": []
    },
    {
      "cell_type": "code",
      "metadata": {
        "colab": {
          "base_uri": "https://localhost:8080/"
        },
        "id": "r_IHOsUICY3x",
        "outputId": "cfb31612-9255-4f49-8198-89edb372fda9"
      },
      "source": [
        "type(mon_sales)"
      ],
      "execution_count": null,
      "outputs": [
        {
          "output_type": "execute_result",
          "data": {
            "text/plain": [
              "int"
            ]
          },
          "metadata": {},
          "execution_count": 50
        }
      ]
    },
    {
      "cell_type": "code",
      "metadata": {
        "colab": {
          "base_uri": "https://localhost:8080/"
        },
        "id": "IwOV4xNLCbAg",
        "outputId": "d857e486-8acf-4b22-e67e-e116e22bea97"
      },
      "source": [
        "\n",
        "# Write two lines of code below, each assigning a value to a variable\n",
        "\n",
        "\n",
        "# Now write a print statement using .format() to print out a sentence and the \n",
        "#   values of both of the variables\n",
        "weapon = 'round'\n",
        "action = 'pierce'\n",
        "print('is your {} {}'.format(weapon, action))"
      ],
      "execution_count": null,
      "outputs": [
        {
          "output_type": "stream",
          "name": "stdout",
          "text": [
            "is your round pierce\n"
          ]
        }
      ]
    },
    {
      "cell_type": "code",
      "metadata": {
        "colab": {
          "base_uri": "https://localhost:8080/"
        },
        "id": "DRGcM_np7xib",
        "outputId": "1aaa7bf7-67a0-4279-d1b2-f7216a413679"
      },
      "source": [
        "verse = \"If you can keep your head when all about you\\n  Are losing theirs and blaming it on you,\\nIf you can trust yourself when all men doubt you,\\n  But make allowance for their doubting too;\\nIf you can wait and not be tired by waiting,\\n  Or being lied about, don’t deal in lies,\\nOr being hated, don’t give way to hating,\\n  And yet don’t look too good, nor talk too wise:\"\n",
        "print(verse)\n",
        "\n",
        "# Use the appropriate functions and methods to answer the questions above\n",
        "# Bonus: practice using .format() to output your answers in descriptive messages!\n",
        "#What is the length of the string variable verse?\n",
        "#What is the index of the first occurrence of the word 'and' in verse?\n",
        "#What is the index of the last occurrence of the word 'you' in verse?\n",
        "#What is the count of occurrences of the word 'you' in the verse?\n",
        "\n",
        "len(verse)\n",
        "\n"
      ],
      "execution_count": null,
      "outputs": [
        {
          "output_type": "stream",
          "name": "stdout",
          "text": [
            "If you can keep your head when all about you\n",
            "  Are losing theirs and blaming it on you,\n",
            "If you can trust yourself when all men doubt you,\n",
            "  But make allowance for their doubting too;\n",
            "If you can wait and not be tired by waiting,\n",
            "  Or being lied about, don’t deal in lies,\n",
            "Or being hated, don’t give way to hating,\n",
            "  And yet don’t look too good, nor talk too wise:\n"
          ]
        },
        {
          "output_type": "execute_result",
          "data": {
            "text/plain": [
              "362"
            ]
          },
          "metadata": {},
          "execution_count": 6
        }
      ]
    },
    {
      "cell_type": "code",
      "metadata": {
        "colab": {
          "base_uri": "https://localhost:8080/"
        },
        "id": "HYZHjHo1_l35",
        "outputId": "9a8b9c36-6153-4074-ee8e-83db8c2d6096"
      },
      "source": [
        "verse.find('and')"
      ],
      "execution_count": null,
      "outputs": [
        {
          "output_type": "execute_result",
          "data": {
            "text/plain": [
              "65"
            ]
          },
          "metadata": {},
          "execution_count": 5
        }
      ]
    },
    {
      "cell_type": "code",
      "metadata": {
        "colab": {
          "base_uri": "https://localhost:8080/"
        },
        "id": "gz62R85j_zEX",
        "outputId": "8da391d4-f9e8-4c76-b8aa-8318808bee8d"
      },
      "source": [
        "verse.rfind('you')"
      ],
      "execution_count": null,
      "outputs": [
        {
          "output_type": "execute_result",
          "data": {
            "text/plain": [
              "186"
            ]
          },
          "metadata": {},
          "execution_count": 8
        }
      ]
    },
    {
      "cell_type": "code",
      "metadata": {
        "id": "S0Blkw2xJdKP"
      },
      "source": [
        "count = verse.count('you')"
      ],
      "execution_count": null,
      "outputs": []
    },
    {
      "cell_type": "code",
      "metadata": {
        "id": "rmSrgHCEJzcW",
        "colab": {
          "base_uri": "https://localhost:8080/"
        },
        "outputId": "8afa6dfa-788b-42c1-af2e-148c126e978b"
      },
      "source": [
        "print(count)"
      ],
      "execution_count": null,
      "outputs": [
        {
          "output_type": "stream",
          "name": "stdout",
          "text": [
            "8\n"
          ]
        }
      ]
    },
    {
      "cell_type": "code",
      "metadata": {
        "id": "QqZokmG7J1yx"
      },
      "source": [
        ""
      ],
      "execution_count": null,
      "outputs": []
    }
  ]
}